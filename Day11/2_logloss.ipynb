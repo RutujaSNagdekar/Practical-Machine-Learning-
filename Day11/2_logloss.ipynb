{
 "cells": [
  {
   "cell_type": "code",
   "execution_count": 11,
   "id": "dfcae35a-08bd-4b53-8780-1862ef4e68f6",
   "metadata": {},
   "outputs": [],
   "source": [
    "import torch\n",
    "import pandas as pd\n",
    "import numpy as np\n",
    "import torch.nn as nn\n",
    "from sklearn.model_selection import train_test_split \n",
    "from sklearn.metrics import accuracy_score, log_loss\n",
    "from torchsummary import summary\n",
    "from sklearn.preprocessing import MinMaxScaler, LabelEncoder\n",
    "import matplotlib.pyplot as plt"
   ]
  },
  {
   "cell_type": "code",
   "execution_count": 12,
   "id": "34241042-5089-48df-93c2-0599ec509784",
   "metadata": {},
   "outputs": [],
   "source": [
    "b_cancer = pd.read_csv(\"BreastCancer.csv\", index_col=0)\n",
    "lbl = LabelEncoder()\n",
    "y = lbl.fit_transform( b_cancer['Class'] )\n",
    "X = b_cancer.drop('Class', axis=1)"
   ]
  },
  {
   "cell_type": "code",
   "execution_count": 13,
   "id": "5cb39cab-22a2-48c1-8848-c43c510e7f8b",
   "metadata": {},
   "outputs": [],
   "source": [
    "scaler = MinMaxScaler()\n",
    "X_train, X_test, y_train, y_test = train_test_split(X, y, test_size = 0.3, \n",
    "                                                    random_state=24,stratify=y)\n",
    "X_scl_trn = scaler.fit_transform(X_train) \n",
    "X_scl_tst = scaler.transform(X_test) "
   ]
  },
  {
   "cell_type": "code",
   "execution_count": 14,
   "id": "f63e6ebd-79d7-4cec-8b39-9bd2c4537917",
   "metadata": {},
   "outputs": [],
   "source": [
    "X_torch = torch.from_numpy(X_scl_trn)\n",
    "y_torch = torch.from_numpy(y_train)"
   ]
  },
  {
   "cell_type": "code",
   "execution_count": 15,
   "id": "a1df2bdb-7002-4228-85ff-f5a035191b12",
   "metadata": {},
   "outputs": [
    {
     "name": "stdout",
     "output_type": "stream",
     "text": [
      "torch.Size([489, 9])\n",
      "torch.Size([489])\n"
     ]
    }
   ],
   "source": [
    "print(X_torch.size())\n",
    "print(y_torch.size())"
   ]
  },
  {
   "cell_type": "code",
   "execution_count": 16,
   "id": "1a986246-f7eb-4962-ad2f-df9c1a951488",
   "metadata": {},
   "outputs": [],
   "source": [
    "torch.manual_seed(24)\n",
    "model = nn.Sequential(nn.Linear(in_features=X_scl_trn.shape[1], out_features=4),\n",
    "                      nn.Tanh(),\n",
    "                      nn.Linear(in_features=4,out_features=1))"
   ]
  },
  {
   "cell_type": "code",
   "execution_count": 17,
   "id": "ac4c018f-9008-4cc4-bf87-91e5c5c7f7e4",
   "metadata": {},
   "outputs": [
    {
     "name": "stdout",
     "output_type": "stream",
     "text": [
      "----------------------------------------------------------------\n",
      "        Layer (type)               Output Shape         Param #\n",
      "================================================================\n",
      "            Linear-1                 [-1, 1, 4]              40\n",
      "              Tanh-2                 [-1, 1, 4]               0\n",
      "            Linear-3                 [-1, 1, 1]               5\n",
      "================================================================\n",
      "Total params: 45\n",
      "Trainable params: 45\n",
      "Non-trainable params: 0\n",
      "----------------------------------------------------------------\n",
      "Input size (MB): 0.00\n",
      "Forward/backward pass size (MB): 0.00\n",
      "Params size (MB): 0.00\n",
      "Estimated Total Size (MB): 0.00\n",
      "----------------------------------------------------------------\n"
     ]
    }
   ],
   "source": [
    "summary(model, (1,X_scl_trn.shape[1]))"
   ]
  },
  {
   "cell_type": "code",
   "execution_count": 18,
   "id": "dc972250-c324-481f-9f61-05c34b0897e2",
   "metadata": {},
   "outputs": [
    {
     "data": {
      "text/plain": [
       "SGD (\n",
       "Parameter Group 0\n",
       "    dampening: 0\n",
       "    differentiable: False\n",
       "    foreach: None\n",
       "    fused: None\n",
       "    lr: 0.4\n",
       "    maximize: False\n",
       "    momentum: 0\n",
       "    nesterov: False\n",
       "    weight_decay: 0\n",
       ")"
      ]
     },
     "execution_count": 18,
     "metadata": {},
     "output_type": "execute_result"
    }
   ],
   "source": [
    "criterion = torch.nn.BCEWithLogitsLoss()\n",
    "optimizer = torch.optim.SGD(model.parameters(), lr = 0.4)\n",
    "optimizer"
   ]
  },
  {
   "cell_type": "code",
   "execution_count": 19,
   "id": "77580ac1-acea-49c4-aa78-1585a9c3e233",
   "metadata": {},
   "outputs": [
    {
     "name": "stdout",
     "output_type": "stream",
     "text": [
      "Parameter containing:\n",
      "tensor([[ 0.1763, -0.0833, -0.2833,  0.0205,  0.3107, -0.1487, -0.1085,  0.2607,\n",
      "         -0.0464],\n",
      "        [-0.1273, -0.0671,  0.0122, -0.2716, -0.0953,  0.3232, -0.0715,  0.3036,\n",
      "         -0.1301],\n",
      "        [-0.1341, -0.0994, -0.2980, -0.2008,  0.2015, -0.2501,  0.1139,  0.3136,\n",
      "         -0.0424],\n",
      "        [ 0.1458,  0.1557, -0.2379, -0.1285, -0.1044,  0.3217, -0.2975,  0.2018,\n",
      "          0.3131]], requires_grad=True)\n",
      "Parameter containing:\n",
      "tensor([ 0.2636,  0.1421,  0.1484, -0.0178], requires_grad=True)\n",
      "Parameter containing:\n",
      "tensor([[ 0.2516,  0.4558, -0.1608,  0.4831]], requires_grad=True)\n",
      "Parameter containing:\n",
      "tensor([0.0795], requires_grad=True)\n"
     ]
    },
    {
     "data": {
      "text/plain": [
       "tensor([[0.1895],\n",
       "        [0.2073],\n",
       "        [0.1303]], grad_fn=<SliceBackward0>)"
      ]
     },
     "execution_count": 19,
     "metadata": {},
     "output_type": "execute_result"
    }
   ],
   "source": [
    "for p in model.parameters():\n",
    "    print(p)\n",
    "\n",
    "y_pred = model(X_torch.float())\n",
    "y_pred[:3]"
   ]
  },
  {
   "cell_type": "code",
   "execution_count": 20,
   "id": "5a26f3ba-4ed7-49b1-87cb-68db9e0c221b",
   "metadata": {},
   "outputs": [
    {
     "name": "stdout",
     "output_type": "stream",
     "text": [
      "torch.Size([489, 1])\n",
      "torch.Size([489, 1])\n"
     ]
    }
   ],
   "source": [
    "y_torch = y_torch.unsqueeze(1)\n",
    "print(y_torch.shape)\n",
    "print(y_pred.shape)"
   ]
  },
  {
   "cell_type": "markdown",
   "id": "ffd11c7a-f67c-49a7-9f2b-a6657dc12b87",
   "metadata": {},
   "source": [
    "## Initial Loss"
   ]
  },
  {
   "cell_type": "code",
   "execution_count": 22,
   "id": "99f0c532-e012-4d22-8fdc-716d4966c47a",
   "metadata": {},
   "outputs": [
    {
     "name": "stdout",
     "output_type": "stream",
     "text": [
      "epoch:  1  loss:  0.7016115784645081\n",
      "epoch:  101  loss:  0.09638867527246475\n",
      "epoch:  201  loss:  0.08764047920703888\n",
      "epoch:  301  loss:  0.08430737257003784\n",
      "epoch:  401  loss:  0.08201033622026443\n",
      "epoch:  501  loss:  0.08003214001655579\n",
      "epoch:  601  loss:  0.07824277132749557\n",
      "epoch:  701  loss:  0.07666906714439392\n",
      "epoch:  801  loss:  0.07532775402069092\n",
      "epoch:  901  loss:  0.07419484853744507\n"
     ]
    }
   ],
   "source": [
    "for epoch in np.arange(0,1000):\n",
    "       # Forward pass: Compute predicted y by passing x to the model\n",
    "       y_pred_prob = model(X_torch.float())\n",
    "\n",
    "       # Compute and print loss\n",
    "       loss = criterion(y_pred_prob, y_torch.float())\n",
    "       if epoch%100 == 0:\n",
    "          print('epoch: ', epoch+1,' loss: ', loss.item())\n",
    "\n",
    "       # Zero gradients, perform a backward pass, and update the weights.\n",
    "       optimizer.zero_grad()\n",
    "\n",
    "       # perform a backward pass (backpropagation)\n",
    "       loss.backward()\n",
    "\n",
    "       # Update the parameters\n",
    "       optimizer.step()\n",
    "#print('epoch: ', epoch+1,' loss: ', loss.item())"
   ]
  },
  {
   "cell_type": "code",
   "execution_count": 23,
   "id": "aed94bca-5728-4c3e-afb3-e4a778410edf",
   "metadata": {},
   "outputs": [],
   "source": [
    "X_torch_test = torch.from_numpy(X_scl_tst)\n",
    "\n",
    "### Inferencing on test set\n",
    "lin_output = model(X_torch_test.float()) # Equivalent predict_proba / predict\n",
    "\n",
    "np_out = lin_output.detach().numpy()\n",
    "y_pred_prob = 1 / (1 + np.exp(-np_out))"
   ]
  },
  {
   "cell_type": "code",
   "execution_count": 24,
   "id": "46e99490-228b-4e88-b310-5f7b9df7c3b0",
   "metadata": {},
   "outputs": [
    {
     "data": {
      "text/plain": [
       "array([[5.4153678e-04],\n",
       "       [6.1622630e-03],\n",
       "       [9.7464120e-01],\n",
       "       [9.7933894e-01],\n",
       "       [1.8712914e-03],\n",
       "       [2.9068576e-02],\n",
       "       [3.2519829e-03],\n",
       "       [1.8712914e-03],\n",
       "       [2.5007320e-03],\n",
       "       [5.4153678e-04],\n",
       "       [9.7983229e-01],\n",
       "       [9.6979505e-01],\n",
       "       [7.7200838e-04],\n",
       "       [6.0617952e-03],\n",
       "       [9.8843145e-01],\n",
       "       [4.4579604e-03],\n",
       "       [8.8065158e-04],\n",
       "       [9.7965372e-01],\n",
       "       [9.3341446e-01],\n",
       "       [9.8837847e-01],\n",
       "       [8.3483737e-03],\n",
       "       [9.8966706e-01],\n",
       "       [6.0526174e-03],\n",
       "       [8.2790560e-01],\n",
       "       [9.8297793e-01],\n",
       "       [5.9698939e-01],\n",
       "       [9.6646434e-01],\n",
       "       [9.8195028e-01],\n",
       "       [7.5569545e-04],\n",
       "       [7.7200838e-04],\n",
       "       [7.6795008e-04],\n",
       "       [1.3924410e-03],\n",
       "       [3.2613240e-02],\n",
       "       [3.3326230e-03],\n",
       "       [2.6863385e-02],\n",
       "       [2.3869760e-02],\n",
       "       [1.9077801e-03],\n",
       "       [7.5988017e-04],\n",
       "       [9.9585187e-01],\n",
       "       [5.4153678e-04],\n",
       "       [2.0143601e-01],\n",
       "       [1.0271794e-03],\n",
       "       [9.7367889e-01],\n",
       "       [9.8508149e-01],\n",
       "       [9.3079466e-01],\n",
       "       [6.4952672e-01],\n",
       "       [9.9234372e-01],\n",
       "       [9.9401987e-01],\n",
       "       [1.4689735e-03],\n",
       "       [9.6061623e-01],\n",
       "       [9.9440056e-01],\n",
       "       [9.8200285e-01],\n",
       "       [5.4153678e-04],\n",
       "       [7.5988017e-04],\n",
       "       [9.6938688e-01],\n",
       "       [1.0269489e-03],\n",
       "       [9.0859944e-01],\n",
       "       [5.4153678e-04],\n",
       "       [1.8187732e-03],\n",
       "       [1.9077801e-03],\n",
       "       [2.8784780e-03],\n",
       "       [8.5970008e-01],\n",
       "       [1.5016575e-03],\n",
       "       [1.0067219e-03],\n",
       "       [9.9305034e-01],\n",
       "       [9.9221379e-01],\n",
       "       [9.5484203e-01],\n",
       "       [9.3729183e-04],\n",
       "       [7.6461403e-04],\n",
       "       [3.6012698e-03],\n",
       "       [9.9419785e-01],\n",
       "       [9.7275531e-01],\n",
       "       [3.6444072e-02],\n",
       "       [2.7589588e-03],\n",
       "       [2.3604009e-02],\n",
       "       [1.1726365e-03],\n",
       "       [1.4689735e-03],\n",
       "       [7.2565405e-03],\n",
       "       [1.4689735e-03],\n",
       "       [3.3326230e-03],\n",
       "       [9.9018717e-01],\n",
       "       [9.8902613e-01],\n",
       "       [9.5356280e-01],\n",
       "       [1.8645400e-03],\n",
       "       [6.3882000e-04],\n",
       "       [6.3882000e-04],\n",
       "       [1.8712914e-03],\n",
       "       [1.1012502e-03],\n",
       "       [1.0550286e-02],\n",
       "       [7.6461403e-04],\n",
       "       [1.8712914e-03],\n",
       "       [5.4153678e-04],\n",
       "       [2.3292401e-03],\n",
       "       [5.3091878e-03],\n",
       "       [2.8874433e-01],\n",
       "       [9.6818572e-01],\n",
       "       [9.9313062e-01],\n",
       "       [2.9076182e-03],\n",
       "       [1.1561343e-03],\n",
       "       [1.9077801e-03],\n",
       "       [9.9337560e-01],\n",
       "       [9.9268943e-01],\n",
       "       [7.7200838e-04],\n",
       "       [4.4579604e-03],\n",
       "       [9.7328395e-01],\n",
       "       [9.8347175e-01],\n",
       "       [9.8660487e-01],\n",
       "       [5.1356186e-03],\n",
       "       [2.1601010e-02],\n",
       "       [1.2039296e-02],\n",
       "       [9.6082282e-01],\n",
       "       [1.1260939e-03],\n",
       "       [1.1726365e-03],\n",
       "       [9.8666775e-01],\n",
       "       [2.9378602e-02],\n",
       "       [2.4652658e-03],\n",
       "       [3.2519829e-03],\n",
       "       [9.9640024e-01],\n",
       "       [8.9496660e-01],\n",
       "       [9.8639303e-01],\n",
       "       [8.4868884e-03],\n",
       "       [9.2542201e-01],\n",
       "       [5.0371098e-03],\n",
       "       [7.5569545e-04],\n",
       "       [9.9558914e-01],\n",
       "       [6.0617952e-03],\n",
       "       [9.8841512e-01],\n",
       "       [1.9077801e-03],\n",
       "       [3.2519829e-03],\n",
       "       [2.7216284e-03],\n",
       "       [7.4247213e-04],\n",
       "       [4.3002842e-03],\n",
       "       [9.1393173e-02],\n",
       "       [9.5586681e-01],\n",
       "       [1.0429154e-02],\n",
       "       [9.7864610e-01],\n",
       "       [4.3751798e-03],\n",
       "       [9.9151611e-01],\n",
       "       [1.7923572e-03],\n",
       "       [1.3745603e-03],\n",
       "       [9.7953588e-01],\n",
       "       [1.7923572e-03],\n",
       "       [3.2446741e-03],\n",
       "       [2.4696763e-03],\n",
       "       [3.2519829e-03],\n",
       "       [7.6795008e-04],\n",
       "       [1.4689735e-03],\n",
       "       [9.5168792e-04],\n",
       "       [2.4696763e-03],\n",
       "       [9.8944235e-01],\n",
       "       [1.1720144e-03],\n",
       "       [9.3729183e-04],\n",
       "       [5.4154248e-04],\n",
       "       [1.1561343e-03],\n",
       "       [4.4150362e-03],\n",
       "       [3.2519829e-03],\n",
       "       [9.8792297e-01],\n",
       "       [5.4153678e-04],\n",
       "       [6.3882000e-04],\n",
       "       [1.6733682e-03],\n",
       "       [8.3483737e-03],\n",
       "       [3.0504139e-03],\n",
       "       [9.4823080e-01],\n",
       "       [1.1561343e-03],\n",
       "       [9.9482524e-01],\n",
       "       [9.6777993e-01],\n",
       "       [1.8712914e-03],\n",
       "       [1.1726365e-03],\n",
       "       [9.2321414e-01],\n",
       "       [9.9597114e-01],\n",
       "       [9.7799474e-01],\n",
       "       [7.5569545e-04],\n",
       "       [7.6461403e-04],\n",
       "       [2.3349130e-03],\n",
       "       [1.4689735e-03],\n",
       "       [6.3882000e-04],\n",
       "       [9.9584597e-01],\n",
       "       [9.9561691e-01],\n",
       "       [9.7141063e-01],\n",
       "       [1.0169529e-03],\n",
       "       [9.7186422e-01],\n",
       "       [9.8521256e-01],\n",
       "       [1.3085228e-02],\n",
       "       [9.8554832e-01],\n",
       "       [5.4153678e-04],\n",
       "       [9.9320120e-01],\n",
       "       [9.8794425e-01],\n",
       "       [5.3091878e-03],\n",
       "       [3.3326230e-03],\n",
       "       [8.3943494e-03],\n",
       "       [6.0617952e-03],\n",
       "       [8.9585246e-04],\n",
       "       [7.7200838e-04],\n",
       "       [6.0548671e-03],\n",
       "       [8.5537605e-02],\n",
       "       [9.9598122e-01],\n",
       "       [1.1726365e-03],\n",
       "       [1.8712914e-03],\n",
       "       [9.4388472e-03],\n",
       "       [9.8758775e-01],\n",
       "       [7.6795008e-04],\n",
       "       [9.9582052e-01],\n",
       "       [2.4696763e-03],\n",
       "       [9.9266690e-01],\n",
       "       [7.7200838e-04],\n",
       "       [5.4386194e-04],\n",
       "       [9.8170578e-01],\n",
       "       [1.3357525e-03],\n",
       "       [9.8242676e-01],\n",
       "       [5.3091878e-03]], dtype=float32)"
      ]
     },
     "execution_count": 24,
     "metadata": {},
     "output_type": "execute_result"
    }
   ],
   "source": [
    "y_pred_prob"
   ]
  },
  {
   "cell_type": "code",
   "execution_count": 25,
   "id": "4e737387-e9c5-4f34-bdb0-be4f0568abc0",
   "metadata": {},
   "outputs": [
    {
     "name": "stdout",
     "output_type": "stream",
     "text": [
      "0.9714285714285714\n"
     ]
    },
    {
     "data": {
      "text/plain": [
       "0.08131366585486448"
      ]
     },
     "execution_count": 25,
     "metadata": {},
     "output_type": "execute_result"
    }
   ],
   "source": [
    "y_pred_prob = y_pred_prob.reshape(y_test.shape[0],) \n",
    "\n",
    "y_pred = np.where(y_pred_prob >= 0.5,1,0)\n",
    "\n",
    "## Test Set Accuracy Score\n",
    "print(accuracy_score(y_test,y_pred))\n",
    "\n",
    "log_loss(y_test, y_pred_prob)"
   ]
  },
  {
   "cell_type": "code",
   "execution_count": null,
   "id": "119c9ce5-a93c-48ae-b2ff-90881833b049",
   "metadata": {},
   "outputs": [],
   "source": []
  }
 ],
 "metadata": {
  "kernelspec": {
   "display_name": "Python 3 (ipykernel)",
   "language": "python",
   "name": "python3"
  },
  "language_info": {
   "codemirror_mode": {
    "name": "ipython",
    "version": 3
   },
   "file_extension": ".py",
   "mimetype": "text/x-python",
   "name": "python",
   "nbconvert_exporter": "python",
   "pygments_lexer": "ipython3",
   "version": "3.12.4"
  }
 },
 "nbformat": 4,
 "nbformat_minor": 5
}
