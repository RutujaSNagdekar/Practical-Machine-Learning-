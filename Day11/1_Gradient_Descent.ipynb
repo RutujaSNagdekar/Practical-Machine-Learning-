{
 "cells": [
  {
   "cell_type": "code",
   "execution_count": 102,
   "id": "f97bc6cb-9ba1-4ac5-993b-d6f6ecef47a0",
   "metadata": {},
   "outputs": [],
   "source": [
    "import numpy as np\n",
    "import pandas as pd\n",
    "from sklearn.linear_model import LinearRegression\n",
    "from sklearn.preprocessing import MinMaxScaler"
   ]
  },
  {
   "cell_type": "code",
   "execution_count": 104,
   "id": "89170dba-da57-47d6-b260-073397cf33bc",
   "metadata": {},
   "outputs": [
    {
     "data": {
      "text/html": [
       "<div>\n",
       "<style scoped>\n",
       "    .dataframe tbody tr th:only-of-type {\n",
       "        vertical-align: middle;\n",
       "    }\n",
       "\n",
       "    .dataframe tbody tr th {\n",
       "        vertical-align: top;\n",
       "    }\n",
       "\n",
       "    .dataframe thead th {\n",
       "        text-align: right;\n",
       "    }\n",
       "</style>\n",
       "<table border=\"1\" class=\"dataframe\">\n",
       "  <thead>\n",
       "    <tr style=\"text-align: right;\">\n",
       "      <th></th>\n",
       "      <th>x</th>\n",
       "      <th>y</th>\n",
       "    </tr>\n",
       "  </thead>\n",
       "  <tbody>\n",
       "    <tr>\n",
       "      <th>0</th>\n",
       "      <td>0.2</td>\n",
       "      <td>5.6</td>\n",
       "    </tr>\n",
       "    <tr>\n",
       "      <th>1</th>\n",
       "      <td>1.2</td>\n",
       "      <td>8.6</td>\n",
       "    </tr>\n",
       "    <tr>\n",
       "      <th>2</th>\n",
       "      <td>1.0</td>\n",
       "      <td>8.0</td>\n",
       "    </tr>\n",
       "    <tr>\n",
       "      <th>3</th>\n",
       "      <td>1.4</td>\n",
       "      <td>9.2</td>\n",
       "    </tr>\n",
       "    <tr>\n",
       "      <th>4</th>\n",
       "      <td>-1.5</td>\n",
       "      <td>0.5</td>\n",
       "    </tr>\n",
       "    <tr>\n",
       "      <th>5</th>\n",
       "      <td>0.5</td>\n",
       "      <td>6.5</td>\n",
       "    </tr>\n",
       "    <tr>\n",
       "      <th>6</th>\n",
       "      <td>-0.5</td>\n",
       "      <td>3.5</td>\n",
       "    </tr>\n",
       "  </tbody>\n",
       "</table>\n",
       "</div>"
      ],
      "text/plain": [
       "     x    y\n",
       "0  0.2  5.6\n",
       "1  1.2  8.6\n",
       "2  1.0  8.0\n",
       "3  1.4  9.2\n",
       "4 -1.5  0.5\n",
       "5  0.5  6.5\n",
       "6 -0.5  3.5"
      ]
     },
     "execution_count": 104,
     "metadata": {},
     "output_type": "execute_result"
    }
   ],
   "source": [
    "df = pd.DataFrame({'x':[0.2,1.2,1,1.4,-1.5,0.5,-0.5]})\n",
    "df['y'] = 3*df['x']+5\n",
    "df"
   ]
  },
  {
   "cell_type": "code",
   "execution_count": 17,
   "id": "8b4d057b-90d4-480b-b888-b9c7d6a713e1",
   "metadata": {},
   "outputs": [],
   "source": [
    "i_w = 0.3\n",
    "i_b = 0.1\n",
    "n = len(df['X'])\n",
    "x , y = df['X'].values , df['y'].values"
   ]
  },
  {
   "cell_type": "code",
   "execution_count": 29,
   "id": "0ee533a5-b946-4235-8443-6c521d4d8c78",
   "metadata": {},
   "outputs": [],
   "source": [
    "y_pred1 = []\n",
    "for i in range(len(df['X'])):\n",
    "    y_pred = w*df['X'][i]+b\n",
    "    y_pred1.append(y_pred)"
   ]
  },
  {
   "cell_type": "code",
   "execution_count": 40,
   "id": "7c762138-63be-4cb6-9b0e-01f702d15562",
   "metadata": {},
   "outputs": [],
   "source": [
    "error1 = []\n",
    "for i in range(len(df)):\n",
    "    error = df['y'][i] - y_pred1[i]\n",
    "    error1.append(error)"
   ]
  },
  {
   "cell_type": "code",
   "execution_count": 42,
   "id": "b41718c5-4725-422e-a073-8f7f4d9ffbfb",
   "metadata": {},
   "outputs": [
    {
     "data": {
      "text/plain": [
       "[5.4399999999999995, 8.14, 7.6, 8.68, 0.85, 6.25, 3.55]"
      ]
     },
     "execution_count": 42,
     "metadata": {},
     "output_type": "execute_result"
    }
   ],
   "source": [
    "error1"
   ]
  },
  {
   "cell_type": "code",
   "execution_count": 46,
   "id": "87606565-3c28-4474-aae8-79db5d731777",
   "metadata": {},
   "outputs": [],
   "source": [
    "error_square = []\n",
    "for i in range(len(df)):\n",
    "    error_square.append(error1[i]**2)"
   ]
  },
  {
   "cell_type": "code",
   "execution_count": 48,
   "id": "27b1de84-925a-47b8-9497-87a88e085131",
   "metadata": {},
   "outputs": [
    {
     "data": {
      "text/plain": [
       "[29.593599999999995,\n",
       " 66.2596,\n",
       " 57.76,\n",
       " 75.3424,\n",
       " 0.7224999999999999,\n",
       " 39.0625,\n",
       " 12.6025]"
      ]
     },
     "execution_count": 48,
     "metadata": {},
     "output_type": "execute_result"
    }
   ],
   "source": [
    "error_square"
   ]
  },
  {
   "cell_type": "code",
   "execution_count": 54,
   "id": "87a19f6f-51e5-4705-abb3-5f99865c7326",
   "metadata": {},
   "outputs": [],
   "source": [
    "error_x = []\n",
    "for i in range(len(df)):\n",
    "    error_x.append(error1[i]*df['X'][i])"
   ]
  },
  {
   "cell_type": "code",
   "execution_count": 56,
   "id": "c6e7ae0d-bbe6-4e22-b037-9d42ecb35daf",
   "metadata": {},
   "outputs": [
    {
     "data": {
      "text/plain": [
       "[1.0879999999999999, 9.768, 7.6, 12.152, -1.275, 3.125, -1.775]"
      ]
     },
     "execution_count": 56,
     "metadata": {},
     "output_type": "execute_result"
    }
   ],
   "source": [
    "error_x"
   ]
  },
  {
   "cell_type": "code",
   "execution_count": 60,
   "id": "50ddb330-2c1e-4b8f-bd98-d7aa7bc682af",
   "metadata": {},
   "outputs": [
    {
     "data": {
      "text/plain": [
       "20.095935714285712"
      ]
     },
     "execution_count": 60,
     "metadata": {},
     "output_type": "execute_result"
    }
   ],
   "source": [
    "loss = np.average(error_square)/2\n",
    "loss"
   ]
  },
  {
   "cell_type": "code",
   "execution_count": 76,
   "id": "34cadedc-44ec-431f-a1f0-3014ceb74ac8",
   "metadata": {},
   "outputs": [
    {
     "name": "stdout",
     "output_type": "stream",
     "text": [
      "-4.383285714285714\n",
      "-5.7871428571428565\n"
     ]
    }
   ],
   "source": [
    "eta = 0.2\n",
    "dw = np.average(error_x)\n",
    "dw = -dw\n",
    "print(dw)\n",
    "db = np.average(error1)\n",
    "db = -db\n",
    "print(db)"
   ]
  },
  {
   "cell_type": "code",
   "execution_count": 80,
   "id": "59d62958-8b67-4403-950e-338d0a683103",
   "metadata": {},
   "outputs": [
    {
     "data": {
      "text/plain": [
       "1.1766571428571428"
      ]
     },
     "execution_count": 80,
     "metadata": {},
     "output_type": "execute_result"
    }
   ],
   "source": [
    "new_w = w-eta*dw\n",
    "new_w"
   ]
  },
  {
   "cell_type": "code",
   "execution_count": 84,
   "id": "49f65593-609b-4ac8-85f3-aea9a4ec3c98",
   "metadata": {},
   "outputs": [
    {
     "data": {
      "text/plain": [
       "1.2574285714285713"
      ]
     },
     "execution_count": 84,
     "metadata": {},
     "output_type": "execute_result"
    }
   ],
   "source": [
    "new_b = b-eta*db\n",
    "new_b"
   ]
  },
  {
   "cell_type": "code",
   "execution_count": 98,
   "id": "227910ef-af5f-44bc-9b1d-793d2efacc17",
   "metadata": {},
   "outputs": [
    {
     "name": "stdout",
     "output_type": "stream",
     "text": [
      "for 2 values are new_w 2.0533142857142854 , new_b :2.4148571428571426 \n",
      "for 3 values are new_w 2.0533142857142854 , new_b :2.4148571428571426 \n",
      "for 4 values are new_w 2.0533142857142854 , new_b :2.4148571428571426 \n",
      "for 5 values are new_w 2.0533142857142854 , new_b :2.4148571428571426 \n",
      "for 6 values are new_w 2.0533142857142854 , new_b :2.4148571428571426 \n",
      "for 7 values are new_w 2.0533142857142854 , new_b :2.4148571428571426 \n"
     ]
    }
   ],
   "source": [
    "# new_w = w-eta*dw\n",
    "# new_b = b-eta*db\n",
    "# for i in range(len(df)):\n",
    "#     y_pred = w*df['X'][i]+b\n",
    "#     y_pred1.append(y_pred)\n",
    "#     error = df['y'][i] - y_pred1[i]\n",
    "#     error1.append(error)\n",
    "#     error_square = error**2\n",
    "#     error_square.append(error1[i]**2)\n",
    "#     error_x = error*df['X']\n",
    "#     error_x.append(error1[i]*df['X'][i])\n",
    "#     dw = np.average(error_x)\n",
    "#     dw = -dw\n",
    "#     db = np.average(error1)\n",
    "#     db = -db\n",
    "#     new_b = new_b-eta*db\n",
    "#     new_w = new_w-eta*dw\n",
    "    \n",
    "#     print(f\"for {i} values are new_w {new_w} , new_b :{new_b} \")\n",
    "    "
   ]
  },
  {
   "cell_type": "code",
   "execution_count": null,
   "id": "3adb5cf6-496b-4ffd-bc1a-3c22b11a453b",
   "metadata": {},
   "outputs": [],
   "source": [
    "epoches = 25"
   ]
  },
  {
   "cell_type": "code",
   "execution_count": 106,
   "id": "c7f4c361-ce45-452d-b3ac-40deb238fef4",
   "metadata": {},
   "outputs": [
    {
     "name": "stdout",
     "output_type": "stream",
     "text": [
      "new w :  1.1766571428571428\n",
      "new b :  1.2574285714285713\n",
      "loss :  20.095935714285712\n",
      "new w :  1.7971642693877552\n",
      "new b :  2.1257625306122447\n",
      "loss :  10.952997757662391\n",
      "new w :  2.2331395574647233\n",
      "new b :  2.7796535153586004\n",
      "loss :  6.009611558539441\n",
      "new w :  2.536583085936262\n",
      "new b :  3.274116498510627\n",
      "loss :  3.32644496238763\n",
      "new w :  2.745197362094657\n",
      "new b :  3.649746310304119\n",
      "loss :  1.862421697322274\n",
      "new w :  2.8862720607472268\n",
      "new b :  3.9365412215913604\n",
      "loss :  1.0579802312749422\n",
      "new w :  2.97951946284915\n",
      "new b :  4.156706527566842\n",
      "loss :  0.6118539055559408\n",
      "new w :  3.0391431785266034\n",
      "new b :  4.326711085923386\n",
      "loss :  0.36146215017489947\n",
      "new w :  3.0753467513486017\n",
      "new b :  4.458796602721247\n",
      "loss :  0.21878647813951807\n",
      "new w :  3.0954331705355926\n",
      "new b :  4.562085924231232\n",
      "loss :  0.13596771317963877\n",
      "new w :  3.104605681338943\n",
      "new b :  4.64339741674979\n",
      "loss :  0.08683021326976892\n",
      "new w :  3.106550569700328\n",
      "new b :  4.707843845768987\n",
      "loss :  0.0569457917433155\n",
      "new w :  3.103860871374213\n",
      "new b :  4.759273182034882\n",
      "loss :  0.038279964967667786\n",
      "new w :  3.0983440718353323\n",
      "new b :  4.800593402651885\n",
      "loss :  0.026299662085132566\n",
      "new w :  3.091245251761179\n",
      "new b :  4.834012111686615\n",
      "loss :  0.018405094819252035\n",
      "new w :  3.083408645559976\n",
      "new b :  4.861213572804986\n",
      "loss :  0.013075415489647428\n",
      "new w :  3.075394377587756\n",
      "new b :  4.883489718678619\n",
      "loss :  0.009400214835485058\n",
      "new w :  3.067562608221562\n",
      "new b :  4.901837287272842\n",
      "loss :  0.006820379388128463\n",
      "new w :  3.06013401068326\n",
      "new b :  4.9170300012779995\n",
      "loss :  0.0049831336138752135\n",
      "new w :  3.053233080976059\n",
      "new b :  4.929672337463214\n",
      "loss :  0.003659787994669\n",
      "new w :  3.0469190173079657\n",
      "new b :  4.9402396960778585\n",
      "loss :  0.0026982367327188055\n",
      "new w :  3.04120761629587\n",
      "new b :  4.949108507153477\n",
      "loss :  0.0019949404206157503\n",
      "new w :  3.0360866926495755\n",
      "new b :  4.9565788766519105\n",
      "loss :  0.0014779982814683344\n",
      "new w :  3.031526843036723\n",
      "new b :  4.96289169009027\n",
      "loss :  0.0010966483562195148\n",
      "new w :  3.0274888747898183\n",
      "new b :  4.968241588101232\n",
      "loss :  0.0008145751612090791\n"
     ]
    }
   ],
   "source": [
    "df['y'] = 3* df['x'] + 5\n",
    "w, b, eta = 0.3, 0.1, 0.2\n",
    "epoches = 25\n",
    "for i in range(epoches):\n",
    "    df['y_pred'] = w*df['x'] + b\n",
    "    df['error'] = df['y'] - df['y_pred']\n",
    "    df['error^2'] = df['error'] **2\n",
    "    df['error*x'] = df['x'] * df['error']\n",
    "    dw = -np.average(df['error*x'])\n",
    "    db = -np.average(df['error'])\n",
    "    loss = np.average(df['error^2'])/2\n",
    "    new_w = w - eta*dw\n",
    "    new_b = b - eta*db\n",
    "    w, b = new_w, new_b\n",
    "    print('new w : ', new_w)\n",
    "    print('new b : ', new_b)\n",
    "    print('loss : ', loss)\n",
    "\n",
    "\n",
    "    "
   ]
  },
  {
   "cell_type": "code",
   "execution_count": null,
   "id": "ae192ddc-b624-4173-abbb-8853927f7f36",
   "metadata": {},
   "outputs": [],
   "source": []
  }
 ],
 "metadata": {
  "kernelspec": {
   "display_name": "Python 3 (ipykernel)",
   "language": "python",
   "name": "python3"
  },
  "language_info": {
   "codemirror_mode": {
    "name": "ipython",
    "version": 3
   },
   "file_extension": ".py",
   "mimetype": "text/x-python",
   "name": "python",
   "nbconvert_exporter": "python",
   "pygments_lexer": "ipython3",
   "version": "3.12.4"
  }
 },
 "nbformat": 4,
 "nbformat_minor": 5
}
