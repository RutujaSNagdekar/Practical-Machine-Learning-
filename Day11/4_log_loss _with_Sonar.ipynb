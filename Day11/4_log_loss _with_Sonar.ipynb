{
 "cells": [
  {
   "cell_type": "code",
   "execution_count": 405,
   "id": "da400108-6f1d-4883-9ae2-5e44ca083de6",
   "metadata": {},
   "outputs": [],
   "source": [
    "import torch\n",
    "import pandas as pd\n",
    "import numpy as np\n",
    "import torch.nn as nn\n",
    "from sklearn.model_selection import train_test_split \n",
    "from sklearn.metrics import accuracy_score, log_loss\n",
    "from torchsummary import summary\n",
    "from sklearn.preprocessing import MinMaxScaler, LabelEncoder\n",
    "import matplotlib.pyplot as plt"
   ]
  },
  {
   "cell_type": "code",
   "execution_count": 406,
   "id": "53a32a3f-df8b-4604-9824-649c03286923",
   "metadata": {},
   "outputs": [
    {
     "data": {
      "text/html": [
       "<div>\n",
       "<style scoped>\n",
       "    .dataframe tbody tr th:only-of-type {\n",
       "        vertical-align: middle;\n",
       "    }\n",
       "\n",
       "    .dataframe tbody tr th {\n",
       "        vertical-align: top;\n",
       "    }\n",
       "\n",
       "    .dataframe thead th {\n",
       "        text-align: right;\n",
       "    }\n",
       "</style>\n",
       "<table border=\"1\" class=\"dataframe\">\n",
       "  <thead>\n",
       "    <tr style=\"text-align: right;\">\n",
       "      <th></th>\n",
       "      <th>V1</th>\n",
       "      <th>V2</th>\n",
       "      <th>V3</th>\n",
       "      <th>V4</th>\n",
       "      <th>V5</th>\n",
       "      <th>V6</th>\n",
       "      <th>V7</th>\n",
       "      <th>V8</th>\n",
       "      <th>V9</th>\n",
       "      <th>V10</th>\n",
       "      <th>...</th>\n",
       "      <th>V52</th>\n",
       "      <th>V53</th>\n",
       "      <th>V54</th>\n",
       "      <th>V55</th>\n",
       "      <th>V56</th>\n",
       "      <th>V57</th>\n",
       "      <th>V58</th>\n",
       "      <th>V59</th>\n",
       "      <th>V60</th>\n",
       "      <th>Class</th>\n",
       "    </tr>\n",
       "  </thead>\n",
       "  <tbody>\n",
       "    <tr>\n",
       "      <th>0</th>\n",
       "      <td>0.0200</td>\n",
       "      <td>0.0371</td>\n",
       "      <td>0.0428</td>\n",
       "      <td>0.0207</td>\n",
       "      <td>0.0954</td>\n",
       "      <td>0.0986</td>\n",
       "      <td>0.1539</td>\n",
       "      <td>0.1601</td>\n",
       "      <td>0.3109</td>\n",
       "      <td>0.2111</td>\n",
       "      <td>...</td>\n",
       "      <td>0.0027</td>\n",
       "      <td>0.0065</td>\n",
       "      <td>0.0159</td>\n",
       "      <td>0.0072</td>\n",
       "      <td>0.0167</td>\n",
       "      <td>0.0180</td>\n",
       "      <td>0.0084</td>\n",
       "      <td>0.0090</td>\n",
       "      <td>0.0032</td>\n",
       "      <td>R</td>\n",
       "    </tr>\n",
       "    <tr>\n",
       "      <th>1</th>\n",
       "      <td>0.0453</td>\n",
       "      <td>0.0523</td>\n",
       "      <td>0.0843</td>\n",
       "      <td>0.0689</td>\n",
       "      <td>0.1183</td>\n",
       "      <td>0.2583</td>\n",
       "      <td>0.2156</td>\n",
       "      <td>0.3481</td>\n",
       "      <td>0.3337</td>\n",
       "      <td>0.2872</td>\n",
       "      <td>...</td>\n",
       "      <td>0.0084</td>\n",
       "      <td>0.0089</td>\n",
       "      <td>0.0048</td>\n",
       "      <td>0.0094</td>\n",
       "      <td>0.0191</td>\n",
       "      <td>0.0140</td>\n",
       "      <td>0.0049</td>\n",
       "      <td>0.0052</td>\n",
       "      <td>0.0044</td>\n",
       "      <td>R</td>\n",
       "    </tr>\n",
       "    <tr>\n",
       "      <th>2</th>\n",
       "      <td>0.0262</td>\n",
       "      <td>0.0582</td>\n",
       "      <td>0.1099</td>\n",
       "      <td>0.1083</td>\n",
       "      <td>0.0974</td>\n",
       "      <td>0.2280</td>\n",
       "      <td>0.2431</td>\n",
       "      <td>0.3771</td>\n",
       "      <td>0.5598</td>\n",
       "      <td>0.6194</td>\n",
       "      <td>...</td>\n",
       "      <td>0.0232</td>\n",
       "      <td>0.0166</td>\n",
       "      <td>0.0095</td>\n",
       "      <td>0.0180</td>\n",
       "      <td>0.0244</td>\n",
       "      <td>0.0316</td>\n",
       "      <td>0.0164</td>\n",
       "      <td>0.0095</td>\n",
       "      <td>0.0078</td>\n",
       "      <td>R</td>\n",
       "    </tr>\n",
       "    <tr>\n",
       "      <th>3</th>\n",
       "      <td>0.0100</td>\n",
       "      <td>0.0171</td>\n",
       "      <td>0.0623</td>\n",
       "      <td>0.0205</td>\n",
       "      <td>0.0205</td>\n",
       "      <td>0.0368</td>\n",
       "      <td>0.1098</td>\n",
       "      <td>0.1276</td>\n",
       "      <td>0.0598</td>\n",
       "      <td>0.1264</td>\n",
       "      <td>...</td>\n",
       "      <td>0.0121</td>\n",
       "      <td>0.0036</td>\n",
       "      <td>0.0150</td>\n",
       "      <td>0.0085</td>\n",
       "      <td>0.0073</td>\n",
       "      <td>0.0050</td>\n",
       "      <td>0.0044</td>\n",
       "      <td>0.0040</td>\n",
       "      <td>0.0117</td>\n",
       "      <td>R</td>\n",
       "    </tr>\n",
       "    <tr>\n",
       "      <th>4</th>\n",
       "      <td>0.0762</td>\n",
       "      <td>0.0666</td>\n",
       "      <td>0.0481</td>\n",
       "      <td>0.0394</td>\n",
       "      <td>0.0590</td>\n",
       "      <td>0.0649</td>\n",
       "      <td>0.1209</td>\n",
       "      <td>0.2467</td>\n",
       "      <td>0.3564</td>\n",
       "      <td>0.4459</td>\n",
       "      <td>...</td>\n",
       "      <td>0.0031</td>\n",
       "      <td>0.0054</td>\n",
       "      <td>0.0105</td>\n",
       "      <td>0.0110</td>\n",
       "      <td>0.0015</td>\n",
       "      <td>0.0072</td>\n",
       "      <td>0.0048</td>\n",
       "      <td>0.0107</td>\n",
       "      <td>0.0094</td>\n",
       "      <td>R</td>\n",
       "    </tr>\n",
       "    <tr>\n",
       "      <th>...</th>\n",
       "      <td>...</td>\n",
       "      <td>...</td>\n",
       "      <td>...</td>\n",
       "      <td>...</td>\n",
       "      <td>...</td>\n",
       "      <td>...</td>\n",
       "      <td>...</td>\n",
       "      <td>...</td>\n",
       "      <td>...</td>\n",
       "      <td>...</td>\n",
       "      <td>...</td>\n",
       "      <td>...</td>\n",
       "      <td>...</td>\n",
       "      <td>...</td>\n",
       "      <td>...</td>\n",
       "      <td>...</td>\n",
       "      <td>...</td>\n",
       "      <td>...</td>\n",
       "      <td>...</td>\n",
       "      <td>...</td>\n",
       "      <td>...</td>\n",
       "    </tr>\n",
       "    <tr>\n",
       "      <th>203</th>\n",
       "      <td>0.0187</td>\n",
       "      <td>0.0346</td>\n",
       "      <td>0.0168</td>\n",
       "      <td>0.0177</td>\n",
       "      <td>0.0393</td>\n",
       "      <td>0.1630</td>\n",
       "      <td>0.2028</td>\n",
       "      <td>0.1694</td>\n",
       "      <td>0.2328</td>\n",
       "      <td>0.2684</td>\n",
       "      <td>...</td>\n",
       "      <td>0.0116</td>\n",
       "      <td>0.0098</td>\n",
       "      <td>0.0199</td>\n",
       "      <td>0.0033</td>\n",
       "      <td>0.0101</td>\n",
       "      <td>0.0065</td>\n",
       "      <td>0.0115</td>\n",
       "      <td>0.0193</td>\n",
       "      <td>0.0157</td>\n",
       "      <td>M</td>\n",
       "    </tr>\n",
       "    <tr>\n",
       "      <th>204</th>\n",
       "      <td>0.0323</td>\n",
       "      <td>0.0101</td>\n",
       "      <td>0.0298</td>\n",
       "      <td>0.0564</td>\n",
       "      <td>0.0760</td>\n",
       "      <td>0.0958</td>\n",
       "      <td>0.0990</td>\n",
       "      <td>0.1018</td>\n",
       "      <td>0.1030</td>\n",
       "      <td>0.2154</td>\n",
       "      <td>...</td>\n",
       "      <td>0.0061</td>\n",
       "      <td>0.0093</td>\n",
       "      <td>0.0135</td>\n",
       "      <td>0.0063</td>\n",
       "      <td>0.0063</td>\n",
       "      <td>0.0034</td>\n",
       "      <td>0.0032</td>\n",
       "      <td>0.0062</td>\n",
       "      <td>0.0067</td>\n",
       "      <td>M</td>\n",
       "    </tr>\n",
       "    <tr>\n",
       "      <th>205</th>\n",
       "      <td>0.0522</td>\n",
       "      <td>0.0437</td>\n",
       "      <td>0.0180</td>\n",
       "      <td>0.0292</td>\n",
       "      <td>0.0351</td>\n",
       "      <td>0.1171</td>\n",
       "      <td>0.1257</td>\n",
       "      <td>0.1178</td>\n",
       "      <td>0.1258</td>\n",
       "      <td>0.2529</td>\n",
       "      <td>...</td>\n",
       "      <td>0.0160</td>\n",
       "      <td>0.0029</td>\n",
       "      <td>0.0051</td>\n",
       "      <td>0.0062</td>\n",
       "      <td>0.0089</td>\n",
       "      <td>0.0140</td>\n",
       "      <td>0.0138</td>\n",
       "      <td>0.0077</td>\n",
       "      <td>0.0031</td>\n",
       "      <td>M</td>\n",
       "    </tr>\n",
       "    <tr>\n",
       "      <th>206</th>\n",
       "      <td>0.0303</td>\n",
       "      <td>0.0353</td>\n",
       "      <td>0.0490</td>\n",
       "      <td>0.0608</td>\n",
       "      <td>0.0167</td>\n",
       "      <td>0.1354</td>\n",
       "      <td>0.1465</td>\n",
       "      <td>0.1123</td>\n",
       "      <td>0.1945</td>\n",
       "      <td>0.2354</td>\n",
       "      <td>...</td>\n",
       "      <td>0.0086</td>\n",
       "      <td>0.0046</td>\n",
       "      <td>0.0126</td>\n",
       "      <td>0.0036</td>\n",
       "      <td>0.0035</td>\n",
       "      <td>0.0034</td>\n",
       "      <td>0.0079</td>\n",
       "      <td>0.0036</td>\n",
       "      <td>0.0048</td>\n",
       "      <td>M</td>\n",
       "    </tr>\n",
       "    <tr>\n",
       "      <th>207</th>\n",
       "      <td>0.0260</td>\n",
       "      <td>0.0363</td>\n",
       "      <td>0.0136</td>\n",
       "      <td>0.0272</td>\n",
       "      <td>0.0214</td>\n",
       "      <td>0.0338</td>\n",
       "      <td>0.0655</td>\n",
       "      <td>0.1400</td>\n",
       "      <td>0.1843</td>\n",
       "      <td>0.2354</td>\n",
       "      <td>...</td>\n",
       "      <td>0.0146</td>\n",
       "      <td>0.0129</td>\n",
       "      <td>0.0047</td>\n",
       "      <td>0.0039</td>\n",
       "      <td>0.0061</td>\n",
       "      <td>0.0040</td>\n",
       "      <td>0.0036</td>\n",
       "      <td>0.0061</td>\n",
       "      <td>0.0115</td>\n",
       "      <td>M</td>\n",
       "    </tr>\n",
       "  </tbody>\n",
       "</table>\n",
       "<p>208 rows × 61 columns</p>\n",
       "</div>"
      ],
      "text/plain": [
       "         V1      V2      V3      V4      V5      V6      V7      V8      V9  \\\n",
       "0    0.0200  0.0371  0.0428  0.0207  0.0954  0.0986  0.1539  0.1601  0.3109   \n",
       "1    0.0453  0.0523  0.0843  0.0689  0.1183  0.2583  0.2156  0.3481  0.3337   \n",
       "2    0.0262  0.0582  0.1099  0.1083  0.0974  0.2280  0.2431  0.3771  0.5598   \n",
       "3    0.0100  0.0171  0.0623  0.0205  0.0205  0.0368  0.1098  0.1276  0.0598   \n",
       "4    0.0762  0.0666  0.0481  0.0394  0.0590  0.0649  0.1209  0.2467  0.3564   \n",
       "..      ...     ...     ...     ...     ...     ...     ...     ...     ...   \n",
       "203  0.0187  0.0346  0.0168  0.0177  0.0393  0.1630  0.2028  0.1694  0.2328   \n",
       "204  0.0323  0.0101  0.0298  0.0564  0.0760  0.0958  0.0990  0.1018  0.1030   \n",
       "205  0.0522  0.0437  0.0180  0.0292  0.0351  0.1171  0.1257  0.1178  0.1258   \n",
       "206  0.0303  0.0353  0.0490  0.0608  0.0167  0.1354  0.1465  0.1123  0.1945   \n",
       "207  0.0260  0.0363  0.0136  0.0272  0.0214  0.0338  0.0655  0.1400  0.1843   \n",
       "\n",
       "        V10  ...     V52     V53     V54     V55     V56     V57     V58  \\\n",
       "0    0.2111  ...  0.0027  0.0065  0.0159  0.0072  0.0167  0.0180  0.0084   \n",
       "1    0.2872  ...  0.0084  0.0089  0.0048  0.0094  0.0191  0.0140  0.0049   \n",
       "2    0.6194  ...  0.0232  0.0166  0.0095  0.0180  0.0244  0.0316  0.0164   \n",
       "3    0.1264  ...  0.0121  0.0036  0.0150  0.0085  0.0073  0.0050  0.0044   \n",
       "4    0.4459  ...  0.0031  0.0054  0.0105  0.0110  0.0015  0.0072  0.0048   \n",
       "..      ...  ...     ...     ...     ...     ...     ...     ...     ...   \n",
       "203  0.2684  ...  0.0116  0.0098  0.0199  0.0033  0.0101  0.0065  0.0115   \n",
       "204  0.2154  ...  0.0061  0.0093  0.0135  0.0063  0.0063  0.0034  0.0032   \n",
       "205  0.2529  ...  0.0160  0.0029  0.0051  0.0062  0.0089  0.0140  0.0138   \n",
       "206  0.2354  ...  0.0086  0.0046  0.0126  0.0036  0.0035  0.0034  0.0079   \n",
       "207  0.2354  ...  0.0146  0.0129  0.0047  0.0039  0.0061  0.0040  0.0036   \n",
       "\n",
       "        V59     V60  Class  \n",
       "0    0.0090  0.0032      R  \n",
       "1    0.0052  0.0044      R  \n",
       "2    0.0095  0.0078      R  \n",
       "3    0.0040  0.0117      R  \n",
       "4    0.0107  0.0094      R  \n",
       "..      ...     ...    ...  \n",
       "203  0.0193  0.0157      M  \n",
       "204  0.0062  0.0067      M  \n",
       "205  0.0077  0.0031      M  \n",
       "206  0.0036  0.0048      M  \n",
       "207  0.0061  0.0115      M  \n",
       "\n",
       "[208 rows x 61 columns]"
      ]
     },
     "execution_count": 406,
     "metadata": {},
     "output_type": "execute_result"
    }
   ],
   "source": [
    "df = pd.read_csv('Sonar.csv')\n",
    "df"
   ]
  },
  {
   "cell_type": "code",
   "execution_count": 407,
   "id": "1f3a8353-44f1-42d6-be50-0dc7b910f97b",
   "metadata": {},
   "outputs": [
    {
     "data": {
      "text/plain": [
       "(208, 60)"
      ]
     },
     "execution_count": 407,
     "metadata": {},
     "output_type": "execute_result"
    }
   ],
   "source": [
    "lb = LabelEncoder()\n",
    "y= lb.fit_transform(df['Class'])\n",
    "X = df.drop('Class' , axis = 1)\n",
    "X.shape"
   ]
  },
  {
   "cell_type": "code",
   "execution_count": 408,
   "id": "d7d313fe-8d40-47d8-a81f-250f226a7a43",
   "metadata": {},
   "outputs": [],
   "source": [
    "X_train, X_test, y_train, y_test = train_test_split(X.values, y, test_size = 0.3, \n",
    "                                                    random_state=24)"
   ]
  },
  {
   "cell_type": "code",
   "execution_count": 409,
   "id": "75527431-e121-4ac3-93c5-a97a5ad2d5bd",
   "metadata": {},
   "outputs": [],
   "source": [
    "X_torch = torch.from_numpy(X_train)\n",
    "y_torch = torch.from_numpy(y_train)"
   ]
  },
  {
   "cell_type": "code",
   "execution_count": 410,
   "id": "4b8941cc-a98b-4a85-9435-625fcbd68180",
   "metadata": {},
   "outputs": [
    {
     "name": "stdout",
     "output_type": "stream",
     "text": [
      "torch.Size([145, 60])\n",
      "torch.Size([145])\n"
     ]
    }
   ],
   "source": [
    "print(X_torch.size())\n",
    "print(y_torch.size())"
   ]
  },
  {
   "cell_type": "code",
   "execution_count": 411,
   "id": "94cf2db2-f59d-43e8-b2b8-c2289173d332",
   "metadata": {},
   "outputs": [],
   "source": [
    "## Activation Functions \n",
    "#tanh()\n",
    "#ReLU\n",
    "#SeLU\n",
    "#etc"
   ]
  },
  {
   "cell_type": "code",
   "execution_count": 412,
   "id": "7678506e-ef29-420e-8ab0-ab72f649075c",
   "metadata": {},
   "outputs": [],
   "source": [
    "torch.manual_seed(24)\n",
    "model = nn.Sequential(nn.Linear(in_features=X_train.shape[1], out_features=50),\n",
    "                      nn.ReLU(),\n",
    "                     nn.Linear(in_features=50 , out_features=30),\n",
    "                    nn.Tanh(),\n",
    "                     nn.Linear(in_features=30 , out_features=10),\n",
    "                     nn.Tanh(),\n",
    "                     nn.Linear(in_features=10 , out_features=1),\n",
    "                    nn.Tanh())"
   ]
  },
  {
   "cell_type": "code",
   "execution_count": 413,
   "id": "b7d87f93-369b-4609-82c5-f91b5828de0b",
   "metadata": {},
   "outputs": [
    {
     "name": "stdout",
     "output_type": "stream",
     "text": [
      "----------------------------------------------------------------\n",
      "        Layer (type)               Output Shape         Param #\n",
      "================================================================\n",
      "            Linear-1                [-1, 1, 50]           3,050\n",
      "              ReLU-2                [-1, 1, 50]               0\n",
      "            Linear-3                [-1, 1, 30]           1,530\n",
      "              Tanh-4                [-1, 1, 30]               0\n",
      "            Linear-5                [-1, 1, 10]             310\n",
      "              Tanh-6                [-1, 1, 10]               0\n",
      "            Linear-7                 [-1, 1, 1]              11\n",
      "              Tanh-8                 [-1, 1, 1]               0\n",
      "================================================================\n",
      "Total params: 4,901\n",
      "Trainable params: 4,901\n",
      "Non-trainable params: 0\n",
      "----------------------------------------------------------------\n",
      "Input size (MB): 0.00\n",
      "Forward/backward pass size (MB): 0.00\n",
      "Params size (MB): 0.02\n",
      "Estimated Total Size (MB): 0.02\n",
      "----------------------------------------------------------------\n"
     ]
    }
   ],
   "source": [
    "summary(model, (1,X_train.shape[1]))"
   ]
  },
  {
   "cell_type": "code",
   "execution_count": 445,
   "id": "739297d7-979b-40ab-a331-a38066eec189",
   "metadata": {},
   "outputs": [
    {
     "data": {
      "text/plain": [
       "SGD (\n",
       "Parameter Group 0\n",
       "    dampening: 0\n",
       "    differentiable: False\n",
       "    foreach: None\n",
       "    fused: None\n",
       "    lr: 0.8\n",
       "    maximize: False\n",
       "    momentum: 0\n",
       "    nesterov: False\n",
       "    weight_decay: 0\n",
       ")"
      ]
     },
     "execution_count": 445,
     "metadata": {},
     "output_type": "execute_result"
    }
   ],
   "source": [
    "criterion = torch.nn.BCEWithLogitsLoss()\n",
    "optimizer = torch.optim.SGD(model.parameters(), lr = 0.8)\n",
    "# with different optimizer\n",
    "# optimizer = torch.optim.SGD(model.parameters(), lr = 0.8 , momentum=0.2)\n",
    "#With Nesterov Optimizer\n",
    "# optimizer = torch.optim.Adagrad(model.parameters(), lr = 0.8)\n",
    "# optimizer = torch.optim.RMSprop(model.parameters(), lr = 0.8)\n",
    "optimizer"
   ]
  },
  {
   "cell_type": "code",
   "execution_count": 415,
   "id": "48e4edc6-44d5-456c-979b-a66edca25fea",
   "metadata": {},
   "outputs": [
    {
     "name": "stdout",
     "output_type": "stream",
     "text": [
      "Parameter containing:\n",
      "tensor([[ 0.0683, -0.0323, -0.1097,  ..., -0.0454, -0.0550,  0.1005],\n",
      "        [-0.0196, -0.0788,  0.0382,  ..., -0.0942,  0.0762,  0.0440],\n",
      "        [-0.0940, -0.0112, -0.0840,  ...,  0.0035, -0.1179, -0.0636],\n",
      "        ...,\n",
      "        [-0.1260,  0.1086, -0.0067,  ...,  0.1088, -0.0604, -0.0645],\n",
      "        [-0.0705,  0.0279, -0.0343,  ...,  0.1208, -0.0642, -0.0883],\n",
      "        [-0.0680,  0.0611,  0.0285,  ...,  0.1239, -0.0421,  0.0881]],\n",
      "       requires_grad=True)\n",
      "Parameter containing:\n",
      "tensor([ 0.0725, -0.0626, -0.0104, -0.0377,  0.0466,  0.1280,  0.0422,  0.0255,\n",
      "        -0.0523,  0.0709,  0.0221,  0.0605, -0.0020,  0.0753, -0.0296,  0.0739,\n",
      "        -0.0783, -0.0337, -0.0692, -0.0181,  0.0145,  0.0352, -0.0108,  0.0654,\n",
      "        -0.0298,  0.0159,  0.1283, -0.0239,  0.1012,  0.0757,  0.0678, -0.0467,\n",
      "        -0.0158, -0.0765, -0.0143, -0.0786,  0.0180,  0.0700,  0.0247, -0.0434,\n",
      "         0.0558, -0.0637, -0.0371,  0.0404, -0.0740,  0.1002,  0.1094, -0.0509,\n",
      "         0.1003, -0.0901], requires_grad=True)\n",
      "Parameter containing:\n",
      "tensor([[-0.0448,  0.0389,  0.0445,  ..., -0.0876,  0.0855,  0.0410],\n",
      "        [-0.1020,  0.1066, -0.0017,  ...,  0.0812,  0.1355, -0.0440],\n",
      "        [ 0.0229, -0.1202,  0.0429,  ...,  0.0467,  0.0795,  0.0257],\n",
      "        ...,\n",
      "        [ 0.1094, -0.0885, -0.1286,  ...,  0.0053, -0.0569,  0.1307],\n",
      "        [-0.0869, -0.0381,  0.0682,  ...,  0.1010, -0.0405, -0.0907],\n",
      "        [ 0.1167, -0.0738,  0.0025,  ...,  0.1301,  0.0628, -0.1168]],\n",
      "       requires_grad=True)\n",
      "Parameter containing:\n",
      "tensor([-0.0829, -0.0108,  0.1101, -0.1105,  0.0722, -0.0980,  0.1036,  0.1033,\n",
      "        -0.1362, -0.0802,  0.1073, -0.1386,  0.0291,  0.0735, -0.0143, -0.0443,\n",
      "         0.0252, -0.0802, -0.1252,  0.0339,  0.0842,  0.0115, -0.1034, -0.0497,\n",
      "         0.0658, -0.1142,  0.0239,  0.0504,  0.0975,  0.0660],\n",
      "       requires_grad=True)\n",
      "Parameter containing:\n",
      "tensor([[ 4.1074e-02,  1.7640e-01,  1.2124e-03, -5.5038e-03, -6.1005e-02,\n",
      "         -1.5039e-01,  1.0766e-01,  1.3798e-01, -6.2348e-02, -4.3848e-02,\n",
      "         -9.0438e-02,  7.4319e-03,  7.2439e-02,  4.4638e-02,  1.2323e-01,\n",
      "          4.4952e-02,  1.3082e-01,  1.0124e-01,  1.4937e-01, -4.6579e-02,\n",
      "          1.3801e-01,  7.3561e-02, -5.4159e-02, -1.1737e-01,  1.2563e-01,\n",
      "          1.1467e-01,  5.8034e-02,  1.2344e-02,  1.7852e-01, -1.2275e-01],\n",
      "        [-1.5044e-01, -7.8046e-02,  7.8689e-02, -1.6336e-01, -8.6025e-02,\n",
      "         -4.5831e-02, -1.4778e-01, -1.6584e-01,  9.3675e-02,  1.6354e-01,\n",
      "          4.1921e-02,  3.5556e-02,  1.5403e-02,  1.7368e-01,  1.5721e-01,\n",
      "         -1.8190e-01, -1.1135e-01,  9.7654e-02,  1.2529e-02,  2.2106e-02,\n",
      "         -9.9399e-02,  8.5095e-02,  2.4376e-02,  4.8960e-02, -6.3240e-02,\n",
      "          1.5584e-01, -1.8248e-02, -1.0733e-01, -4.6697e-02, -2.3842e-02],\n",
      "        [ 1.3959e-01,  1.6572e-01,  1.0553e-01, -8.1873e-02,  7.1620e-02,\n",
      "          1.6734e-01, -1.4420e-02, -2.2115e-02,  2.0799e-02,  1.5383e-02,\n",
      "         -1.6075e-01,  9.6307e-03,  2.3700e-02, -6.1649e-02, -1.5937e-01,\n",
      "          5.4025e-02, -1.1194e-01, -1.4927e-02,  8.1416e-02, -4.7664e-02,\n",
      "          8.4032e-02, -1.7788e-01, -9.3627e-02, -6.6951e-02, -1.6791e-01,\n",
      "          1.5468e-01,  7.7314e-02, -4.9391e-02,  8.2140e-02, -3.8616e-02],\n",
      "        [-1.8855e-02, -6.4743e-02,  1.6851e-01, -9.1837e-02,  1.3680e-01,\n",
      "          1.7872e-04,  1.3699e-01,  4.0341e-02, -2.8804e-02,  2.3654e-02,\n",
      "         -5.6474e-02, -9.1594e-02,  1.0575e-01, -7.8963e-02, -1.4300e-01,\n",
      "         -1.0344e-01,  4.0203e-03,  4.2067e-03, -1.6850e-01,  1.3192e-01,\n",
      "          1.9567e-02,  8.7779e-03, -1.4558e-01,  1.7182e-02, -6.9676e-03,\n",
      "          4.0161e-02, -6.9710e-02, -1.7530e-02, -6.0394e-02, -4.4528e-02],\n",
      "        [-3.3025e-02, -1.9922e-02,  1.8264e-02,  6.8445e-02,  1.6455e-01,\n",
      "          1.5825e-01, -5.5768e-02, -1.4886e-01, -1.6272e-01, -1.8076e-01,\n",
      "         -1.4895e-01, -6.0948e-02,  7.0483e-02,  2.4044e-02,  2.4883e-02,\n",
      "          1.7280e-01, -1.6392e-01,  7.6129e-02, -5.3853e-02,  2.4842e-02,\n",
      "          1.0422e-01,  1.0906e-01, -7.0521e-02,  5.8765e-02, -1.2134e-01,\n",
      "         -1.2039e-01, -2.8120e-02,  3.4041e-02, -5.0692e-02,  9.3171e-02],\n",
      "        [ 1.8020e-01,  7.8310e-02,  3.3551e-02, -2.8550e-02, -1.2709e-01,\n",
      "          1.1537e-01,  5.2274e-02,  1.7601e-02, -3.4654e-02, -9.2839e-02,\n",
      "         -2.2831e-02,  1.0676e-01,  1.3319e-01,  1.2673e-01, -2.3231e-02,\n",
      "         -9.6298e-02, -7.1738e-02,  1.7460e-02,  1.6226e-02, -1.7611e-01,\n",
      "          4.0772e-02,  1.0085e-01, -5.8302e-02, -9.9548e-02,  1.7686e-01,\n",
      "         -8.8924e-02, -1.3792e-01, -3.5059e-02, -1.7705e-02,  1.2721e-01],\n",
      "        [ 2.9571e-04, -1.5042e-03,  8.8875e-02, -2.5256e-03, -3.2057e-02,\n",
      "         -4.2449e-02,  8.2348e-02,  2.0628e-03,  1.7233e-01,  1.9110e-02,\n",
      "          1.2636e-01,  1.6961e-01, -8.9341e-02, -3.8320e-02, -1.0711e-02,\n",
      "          3.0294e-02,  6.3283e-02,  1.7050e-01,  1.2535e-01,  1.1511e-01,\n",
      "         -1.5540e-02, -1.0000e-01,  4.1949e-02,  4.8519e-02,  1.8463e-03,\n",
      "          5.6674e-02,  1.7516e-01, -6.5333e-02, -6.2355e-02,  5.8887e-02],\n",
      "        [ 8.1431e-02,  1.4004e-01,  1.4127e-01,  1.5690e-02, -5.7221e-02,\n",
      "         -1.3044e-01, -2.2926e-02,  4.6638e-02,  1.7040e-01,  1.6977e-02,\n",
      "         -1.4946e-01,  1.5386e-01,  4.6854e-03, -4.4324e-03, -1.6891e-01,\n",
      "          1.1235e-01, -1.6894e-01,  1.3485e-01, -1.8046e-01, -1.6718e-01,\n",
      "         -1.6973e-01,  1.3191e-01,  8.0163e-02,  7.0215e-02, -1.0172e-01,\n",
      "         -1.3052e-01,  1.3317e-02,  1.4769e-01, -1.7423e-01,  1.4128e-01],\n",
      "        [-7.4824e-02,  1.0173e-01, -3.0524e-02, -1.5151e-02,  1.3428e-01,\n",
      "          1.4147e-01, -8.9851e-02,  1.5218e-01,  8.7318e-02, -1.6893e-01,\n",
      "         -1.7743e-01, -1.7757e-01, -1.0356e-01, -4.6755e-02, -1.0851e-01,\n",
      "         -1.7972e-01,  1.2231e-01, -1.3870e-01,  1.0797e-01, -1.1564e-01,\n",
      "         -1.5509e-01,  2.1018e-02, -2.6514e-02,  1.0874e-01,  7.6039e-03,\n",
      "         -1.6148e-01, -1.4070e-01, -1.3532e-01,  1.6151e-02,  8.9001e-02],\n",
      "        [-7.1418e-02,  9.2892e-02,  2.1203e-03, -1.2063e-01,  3.2666e-02,\n",
      "         -9.8365e-02, -2.2011e-02, -8.1586e-02, -1.5112e-01,  3.5721e-02,\n",
      "         -9.9326e-02,  4.2580e-02,  1.8619e-02, -1.0928e-01,  3.3379e-03,\n",
      "         -1.7236e-01,  6.4073e-02,  1.2126e-01,  1.4626e-01,  9.3299e-02,\n",
      "          1.7347e-01, -3.8500e-02,  9.0543e-02, -6.2305e-02,  5.2306e-02,\n",
      "          1.1782e-01, -1.6522e-01,  2.1255e-02,  1.1485e-01, -8.8871e-02]],\n",
      "       requires_grad=True)\n",
      "Parameter containing:\n",
      "tensor([-0.0248, -0.0579,  0.0922,  0.0031, -0.0482, -0.0059, -0.1580,  0.1568,\n",
      "         0.0689,  0.0243], requires_grad=True)\n",
      "Parameter containing:\n",
      "tensor([[ 0.0399, -0.0168,  0.2533, -0.0325, -0.1064, -0.0972,  0.0123, -0.2517,\n",
      "          0.3016,  0.3117]], requires_grad=True)\n",
      "Parameter containing:\n",
      "tensor([0.2058], requires_grad=True)\n"
     ]
    },
    {
     "data": {
      "text/plain": [
       "tensor([[0.2367],\n",
       "        [0.2404],\n",
       "        [0.2503]], grad_fn=<SliceBackward0>)"
      ]
     },
     "execution_count": 415,
     "metadata": {},
     "output_type": "execute_result"
    }
   ],
   "source": [
    "for p in model.parameters():\n",
    "    print(p)\n",
    "\n",
    "y_pred = model(X_torch.float())\n",
    "y_pred[:3]"
   ]
  },
  {
   "cell_type": "code",
   "execution_count": 416,
   "id": "8deee233-1cab-4d05-a814-d2696232cbce",
   "metadata": {},
   "outputs": [
    {
     "name": "stdout",
     "output_type": "stream",
     "text": [
      "torch.Size([145, 1])\n",
      "torch.Size([145, 1])\n"
     ]
    }
   ],
   "source": [
    "y_torch = y_torch.unsqueeze(1)\n",
    "print(y_torch.shape)\n",
    "print(y_pred.shape)"
   ]
  },
  {
   "cell_type": "code",
   "execution_count": 417,
   "id": "d5b002ca-0d9c-41a2-9165-21de4116cdc3",
   "metadata": {},
   "outputs": [
    {
     "name": "stdout",
     "output_type": "stream",
     "text": [
      "epoch:  1  loss:  0.695387065410614\n",
      "epoch:  101  loss:  0.7960202693939209\n",
      "epoch:  201  loss:  0.7960202693939209\n",
      "epoch:  301  loss:  0.7960202693939209\n",
      "epoch:  401  loss:  0.7960202693939209\n",
      "epoch:  501  loss:  0.7960202693939209\n",
      "epoch:  601  loss:  0.7960202693939209\n",
      "epoch:  701  loss:  0.7960202693939209\n",
      "epoch:  801  loss:  0.7960202693939209\n",
      "epoch:  901  loss:  0.7960202693939209\n"
     ]
    }
   ],
   "source": [
    "for epoch in np.arange(0,1000):\n",
    "       # Forward pass: Compute predicted y by passing x to the model\n",
    "       y_pred_prob = model(X_torch.float())\n",
    "\n",
    "       # Compute and print loss\n",
    "       loss = criterion(y_pred_prob, y_torch.float())\n",
    "       if epoch%100 == 0:\n",
    "          print('epoch: ', epoch+1,' loss: ', loss.item())\n",
    "\n",
    "       # Zero gradients, perform a backward pass, and update the weights.\n",
    "       optimizer.zero_grad()\n",
    "\n",
    "       # perform a backward pass (backpropagation)\n",
    "       loss.backward()\n",
    "\n",
    "       # Update the parameters\n",
    "       optimizer.step()\n",
    "#print('epoch: ', epoch+1,' loss: ', loss.item())"
   ]
  },
  {
   "cell_type": "code",
   "execution_count": 418,
   "id": "4ab26c45-e28e-49bf-83bc-77f726df63e0",
   "metadata": {},
   "outputs": [],
   "source": [
    "X_torch_test = torch.from_numpy(X_test)\n",
    "\n",
    "### Inferencing on test set\n",
    "lin_output = model(X_torch_test.float()) # Equivalent predict_proba / predict\n",
    "\n",
    "np_out = lin_output.detach().numpy()\n",
    "y_pred_prob = 1 / (1 + np.exp(-np_out))"
   ]
  },
  {
   "cell_type": "code",
   "execution_count": 419,
   "id": "4c23d297-7b48-42df-b72f-2525968007b3",
   "metadata": {},
   "outputs": [
    {
     "name": "stdout",
     "output_type": "stream",
     "text": [
      "0.3492063492063492\n"
     ]
    },
    {
     "data": {
      "text/plain": [
       "0.9640553750861154"
      ]
     },
     "execution_count": 419,
     "metadata": {},
     "output_type": "execute_result"
    }
   ],
   "source": [
    "y_pred_prob = y_pred_prob.reshape(y_test.shape[0],) \n",
    "\n",
    "y_pred = np.where(y_pred_prob >= 0.5,1,0)\n",
    "\n",
    "## Test Set Accuracy Score\n",
    "print(accuracy_score(y_test,y_pred))\n",
    "\n",
    "log_loss(y_test, y_pred_prob)"
   ]
  },
  {
   "cell_type": "code",
   "execution_count": 420,
   "id": "d3a46dfb-6596-4649-903a-0f19f77548b4",
   "metadata": {},
   "outputs": [
    {
     "data": {
      "text/plain": [
       "(63,)"
      ]
     },
     "execution_count": 420,
     "metadata": {},
     "output_type": "execute_result"
    }
   ],
   "source": [
    "y_test.shape"
   ]
  },
  {
   "cell_type": "code",
   "execution_count": 421,
   "id": "b24876a2-60fd-43ff-992c-ddce92aa7f79",
   "metadata": {},
   "outputs": [
    {
     "data": {
      "text/plain": [
       "(63,)"
      ]
     },
     "execution_count": 421,
     "metadata": {},
     "output_type": "execute_result"
    }
   ],
   "source": [
    "y_pred.shape"
   ]
  },
  {
   "cell_type": "code",
   "execution_count": 422,
   "id": "a11e67db-dd45-4b97-841a-ede216dec92f",
   "metadata": {},
   "outputs": [
    {
     "data": {
      "text/plain": [
       "torch.Size([63, 60])"
      ]
     },
     "execution_count": 422,
     "metadata": {},
     "output_type": "execute_result"
    }
   ],
   "source": [
    "X_torch_test.shape"
   ]
  },
  {
   "cell_type": "code",
   "execution_count": 423,
   "id": "f6267443-1ff6-4f04-86fd-cdc859c5cfa4",
   "metadata": {},
   "outputs": [
    {
     "data": {
      "text/plain": [
       "(145, 60)"
      ]
     },
     "execution_count": 423,
     "metadata": {},
     "output_type": "execute_result"
    }
   ],
   "source": [
    "X_train.shape"
   ]
  },
  {
   "cell_type": "raw",
   "id": "c6a78e1d-11c2-4347-bf44-85a84ddd5a0e",
   "metadata": {},
   "source": [
    "0.4603174603174603\n",
    "0.6931471805599455"
   ]
  },
  {
   "cell_type": "code",
   "execution_count": null,
   "id": "8219dc2f-1d56-4064-98d9-686dc532d7c3",
   "metadata": {},
   "outputs": [],
   "source": []
  },
  {
   "cell_type": "code",
   "execution_count": null,
   "id": "ab698d8b-a99e-4f80-ab99-a9cb46db388d",
   "metadata": {},
   "outputs": [],
   "source": []
  }
 ],
 "metadata": {
  "kernelspec": {
   "display_name": "Python 3 (ipykernel)",
   "language": "python",
   "name": "python3"
  },
  "language_info": {
   "codemirror_mode": {
    "name": "ipython",
    "version": 3
   },
   "file_extension": ".py",
   "mimetype": "text/x-python",
   "name": "python",
   "nbconvert_exporter": "python",
   "pygments_lexer": "ipython3",
   "version": "3.12.4"
  }
 },
 "nbformat": 4,
 "nbformat_minor": 5
}
