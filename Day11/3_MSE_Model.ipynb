{
 "cells": [
  {
   "cell_type": "code",
   "execution_count": 303,
   "id": "95c6d38f-5989-4274-9bbf-d2a4c4851c0e",
   "metadata": {},
   "outputs": [],
   "source": [
    "import torch\n",
    "import pandas as pd\n",
    "import numpy as np\n",
    "import torch.nn as nn\n",
    "from sklearn.model_selection import train_test_split \n",
    "from sklearn.metrics import accuracy_score, log_loss,r2_score\n",
    "from torchsummary import summary\n",
    "from sklearn.preprocessing import MinMaxScaler, LabelEncoder\n",
    "import matplotlib.pyplot as plt"
   ]
  },
  {
   "cell_type": "code",
   "execution_count": 304,
   "id": "92a092d6-b65f-4473-b513-2a55cfa52ca2",
   "metadata": {},
   "outputs": [
    {
     "data": {
      "text/html": [
       "<div>\n",
       "<style scoped>\n",
       "    .dataframe tbody tr th:only-of-type {\n",
       "        vertical-align: middle;\n",
       "    }\n",
       "\n",
       "    .dataframe tbody tr th {\n",
       "        vertical-align: top;\n",
       "    }\n",
       "\n",
       "    .dataframe thead th {\n",
       "        text-align: right;\n",
       "    }\n",
       "</style>\n",
       "<table border=\"1\" class=\"dataframe\">\n",
       "  <thead>\n",
       "    <tr style=\"text-align: right;\">\n",
       "      <th></th>\n",
       "      <th>Cement</th>\n",
       "      <th>Blast</th>\n",
       "      <th>Fly</th>\n",
       "      <th>Water</th>\n",
       "      <th>Superplasticizer</th>\n",
       "      <th>Coarse</th>\n",
       "      <th>Fine</th>\n",
       "      <th>Age</th>\n",
       "      <th>Strength</th>\n",
       "    </tr>\n",
       "  </thead>\n",
       "  <tbody>\n",
       "    <tr>\n",
       "      <th>0</th>\n",
       "      <td>540.0</td>\n",
       "      <td>0.0</td>\n",
       "      <td>0.0</td>\n",
       "      <td>162.0</td>\n",
       "      <td>2.5</td>\n",
       "      <td>1040.0</td>\n",
       "      <td>676.0</td>\n",
       "      <td>28</td>\n",
       "      <td>79.99</td>\n",
       "    </tr>\n",
       "    <tr>\n",
       "      <th>1</th>\n",
       "      <td>540.0</td>\n",
       "      <td>0.0</td>\n",
       "      <td>0.0</td>\n",
       "      <td>162.0</td>\n",
       "      <td>2.5</td>\n",
       "      <td>1055.0</td>\n",
       "      <td>676.0</td>\n",
       "      <td>28</td>\n",
       "      <td>61.89</td>\n",
       "    </tr>\n",
       "    <tr>\n",
       "      <th>2</th>\n",
       "      <td>332.5</td>\n",
       "      <td>142.5</td>\n",
       "      <td>0.0</td>\n",
       "      <td>228.0</td>\n",
       "      <td>0.0</td>\n",
       "      <td>932.0</td>\n",
       "      <td>594.0</td>\n",
       "      <td>270</td>\n",
       "      <td>40.27</td>\n",
       "    </tr>\n",
       "    <tr>\n",
       "      <th>3</th>\n",
       "      <td>332.5</td>\n",
       "      <td>142.5</td>\n",
       "      <td>0.0</td>\n",
       "      <td>228.0</td>\n",
       "      <td>0.0</td>\n",
       "      <td>932.0</td>\n",
       "      <td>594.0</td>\n",
       "      <td>365</td>\n",
       "      <td>41.05</td>\n",
       "    </tr>\n",
       "    <tr>\n",
       "      <th>4</th>\n",
       "      <td>198.6</td>\n",
       "      <td>132.4</td>\n",
       "      <td>0.0</td>\n",
       "      <td>192.0</td>\n",
       "      <td>0.0</td>\n",
       "      <td>978.4</td>\n",
       "      <td>825.5</td>\n",
       "      <td>360</td>\n",
       "      <td>44.30</td>\n",
       "    </tr>\n",
       "    <tr>\n",
       "      <th>...</th>\n",
       "      <td>...</td>\n",
       "      <td>...</td>\n",
       "      <td>...</td>\n",
       "      <td>...</td>\n",
       "      <td>...</td>\n",
       "      <td>...</td>\n",
       "      <td>...</td>\n",
       "      <td>...</td>\n",
       "      <td>...</td>\n",
       "    </tr>\n",
       "    <tr>\n",
       "      <th>1025</th>\n",
       "      <td>276.4</td>\n",
       "      <td>116.0</td>\n",
       "      <td>90.3</td>\n",
       "      <td>179.6</td>\n",
       "      <td>8.9</td>\n",
       "      <td>870.1</td>\n",
       "      <td>768.3</td>\n",
       "      <td>28</td>\n",
       "      <td>44.28</td>\n",
       "    </tr>\n",
       "    <tr>\n",
       "      <th>1026</th>\n",
       "      <td>322.2</td>\n",
       "      <td>0.0</td>\n",
       "      <td>115.6</td>\n",
       "      <td>196.0</td>\n",
       "      <td>10.4</td>\n",
       "      <td>817.9</td>\n",
       "      <td>813.4</td>\n",
       "      <td>28</td>\n",
       "      <td>31.18</td>\n",
       "    </tr>\n",
       "    <tr>\n",
       "      <th>1027</th>\n",
       "      <td>148.5</td>\n",
       "      <td>139.4</td>\n",
       "      <td>108.6</td>\n",
       "      <td>192.7</td>\n",
       "      <td>6.1</td>\n",
       "      <td>892.4</td>\n",
       "      <td>780.0</td>\n",
       "      <td>28</td>\n",
       "      <td>23.70</td>\n",
       "    </tr>\n",
       "    <tr>\n",
       "      <th>1028</th>\n",
       "      <td>159.1</td>\n",
       "      <td>186.7</td>\n",
       "      <td>0.0</td>\n",
       "      <td>175.6</td>\n",
       "      <td>11.3</td>\n",
       "      <td>989.6</td>\n",
       "      <td>788.9</td>\n",
       "      <td>28</td>\n",
       "      <td>32.77</td>\n",
       "    </tr>\n",
       "    <tr>\n",
       "      <th>1029</th>\n",
       "      <td>260.9</td>\n",
       "      <td>100.5</td>\n",
       "      <td>78.3</td>\n",
       "      <td>200.6</td>\n",
       "      <td>8.6</td>\n",
       "      <td>864.5</td>\n",
       "      <td>761.5</td>\n",
       "      <td>28</td>\n",
       "      <td>32.40</td>\n",
       "    </tr>\n",
       "  </tbody>\n",
       "</table>\n",
       "<p>1030 rows × 9 columns</p>\n",
       "</div>"
      ],
      "text/plain": [
       "      Cement  Blast    Fly  Water  Superplasticizer  Coarse   Fine  Age  \\\n",
       "0      540.0    0.0    0.0  162.0               2.5  1040.0  676.0   28   \n",
       "1      540.0    0.0    0.0  162.0               2.5  1055.0  676.0   28   \n",
       "2      332.5  142.5    0.0  228.0               0.0   932.0  594.0  270   \n",
       "3      332.5  142.5    0.0  228.0               0.0   932.0  594.0  365   \n",
       "4      198.6  132.4    0.0  192.0               0.0   978.4  825.5  360   \n",
       "...      ...    ...    ...    ...               ...     ...    ...  ...   \n",
       "1025   276.4  116.0   90.3  179.6               8.9   870.1  768.3   28   \n",
       "1026   322.2    0.0  115.6  196.0              10.4   817.9  813.4   28   \n",
       "1027   148.5  139.4  108.6  192.7               6.1   892.4  780.0   28   \n",
       "1028   159.1  186.7    0.0  175.6              11.3   989.6  788.9   28   \n",
       "1029   260.9  100.5   78.3  200.6               8.6   864.5  761.5   28   \n",
       "\n",
       "      Strength  \n",
       "0        79.99  \n",
       "1        61.89  \n",
       "2        40.27  \n",
       "3        41.05  \n",
       "4        44.30  \n",
       "...        ...  \n",
       "1025     44.28  \n",
       "1026     31.18  \n",
       "1027     23.70  \n",
       "1028     32.77  \n",
       "1029     32.40  \n",
       "\n",
       "[1030 rows x 9 columns]"
      ]
     },
     "execution_count": 304,
     "metadata": {},
     "output_type": "execute_result"
    }
   ],
   "source": [
    "df = pd.read_csv('Concrete_Data.csv')\n",
    "df"
   ]
  },
  {
   "cell_type": "code",
   "execution_count": 305,
   "id": "9c9731b6-1e5a-4df0-aeab-289f5459b153",
   "metadata": {},
   "outputs": [],
   "source": [
    "\n",
    "y = df['Strength'].values\n",
    "X = df.drop('Strength', axis = 1).values"
   ]
  },
  {
   "cell_type": "code",
   "execution_count": 306,
   "id": "8107c6f8-1523-4c52-b472-172fe8ddac32",
   "metadata": {},
   "outputs": [],
   "source": [
    "scaler_X = MinMaxScaler()\n",
    "scaler_Y = MinMaxScaler()\n",
    "X_train, X_test, y_train, y_test = train_test_split(X, y, test_size = 0.3, \n",
    "                                                    random_state=24)\n",
    "X_scl_trn = scaler_X.fit_transform(X_train) \n",
    "X_scl_tst = scaler_X.transform(X_test) \n",
    "y_scl_trn = scaler_Y.fit_transform(y_train.reshape(-1,1))\n",
    "y_scl_tst = scaler_Y.transform(y_test.reshape(-1,1))"
   ]
  },
  {
   "cell_type": "code",
   "execution_count": 307,
   "id": "dcd51a69-da1b-42e9-b75f-71086b295b3e",
   "metadata": {},
   "outputs": [],
   "source": [
    "X_torch = torch.from_numpy(X_scl_trn)\n",
    "y_torch = torch.from_numpy(y_scl_trn)"
   ]
  },
  {
   "cell_type": "code",
   "execution_count": 308,
   "id": "ad2eef30-e071-460a-9403-a316ef0fbebc",
   "metadata": {},
   "outputs": [
    {
     "name": "stdout",
     "output_type": "stream",
     "text": [
      "torch.Size([721, 8])\n",
      "torch.Size([721, 1])\n"
     ]
    }
   ],
   "source": [
    "print(X_torch.size())\n",
    "print(y_torch.size())"
   ]
  },
  {
   "cell_type": "code",
   "execution_count": 309,
   "id": "2b65d3dc-9b9c-44ce-aa32-62f7b605d62e",
   "metadata": {},
   "outputs": [],
   "source": [
    "torch.manual_seed(24)\n",
    "model = nn.Sequential(nn.Linear(in_features=X_scl_trn.shape[1], out_features=1))"
   ]
  },
  {
   "cell_type": "code",
   "execution_count": 310,
   "id": "e4d510c3-8b12-4db5-a17e-68fe2b2295c1",
   "metadata": {},
   "outputs": [
    {
     "name": "stdout",
     "output_type": "stream",
     "text": [
      "----------------------------------------------------------------\n",
      "        Layer (type)               Output Shape         Param #\n",
      "================================================================\n",
      "            Linear-1                 [-1, 1, 1]               9\n",
      "================================================================\n",
      "Total params: 9\n",
      "Trainable params: 9\n",
      "Non-trainable params: 0\n",
      "----------------------------------------------------------------\n",
      "Input size (MB): 0.00\n",
      "Forward/backward pass size (MB): 0.00\n",
      "Params size (MB): 0.00\n",
      "Estimated Total Size (MB): 0.00\n",
      "----------------------------------------------------------------\n"
     ]
    }
   ],
   "source": [
    "summary(model, (1,X_scl_trn.shape[1]))"
   ]
  },
  {
   "cell_type": "code",
   "execution_count": 311,
   "id": "a976795f-2fac-4497-855a-c6d0a788083f",
   "metadata": {},
   "outputs": [
    {
     "data": {
      "text/plain": [
       "SGD (\n",
       "Parameter Group 0\n",
       "    dampening: 0\n",
       "    differentiable: False\n",
       "    foreach: None\n",
       "    fused: None\n",
       "    lr: 0.1\n",
       "    maximize: False\n",
       "    momentum: 0\n",
       "    nesterov: False\n",
       "    weight_decay: 0\n",
       ")"
      ]
     },
     "execution_count": 311,
     "metadata": {},
     "output_type": "execute_result"
    }
   ],
   "source": [
    "criterion = torch.nn.MSELoss()\n",
    "optimizer = torch.optim.SGD(model.parameters(), lr = 0.1)\n",
    "optimizer"
   ]
  },
  {
   "cell_type": "code",
   "execution_count": 312,
   "id": "208ec707-ad50-402f-a72f-f693510dbab3",
   "metadata": {},
   "outputs": [
    {
     "name": "stdout",
     "output_type": "stream",
     "text": [
      "Parameter containing:\n",
      "tensor([[ 0.1870, -0.0884, -0.3005,  0.0218,  0.3295, -0.1577, -0.1151,  0.2765]],\n",
      "       requires_grad=True)\n",
      "Parameter containing:\n",
      "tensor([-0.0492], requires_grad=True)\n"
     ]
    },
    {
     "data": {
      "text/plain": [
       "tensor([[ 0.0328],\n",
       "        [-0.2980],\n",
       "        [-0.1653]], grad_fn=<SliceBackward0>)"
      ]
     },
     "execution_count": 312,
     "metadata": {},
     "output_type": "execute_result"
    }
   ],
   "source": [
    "for p in model.parameters():\n",
    "    print(p)\n",
    "\n",
    "y_pred = model(X_torch.float())\n",
    "y_pred[:3]"
   ]
  },
  {
   "cell_type": "code",
   "execution_count": 313,
   "id": "c01c9260-d001-4c6f-b717-b48bcb50203b",
   "metadata": {},
   "outputs": [
    {
     "name": "stdout",
     "output_type": "stream",
     "text": [
      "torch.Size([721, 1])\n",
      "torch.Size([721, 1])\n"
     ]
    }
   ],
   "source": [
    "print(y_torch.shape)\n",
    "print(y_pred.shape)"
   ]
  },
  {
   "cell_type": "code",
   "execution_count": 314,
   "id": "1dd55100-6471-4707-b7e8-ce8ae98b7670",
   "metadata": {},
   "outputs": [
    {
     "name": "stdout",
     "output_type": "stream",
     "text": [
      "epoch:  1  loss:  0.2992650866508484\n",
      "epoch:  101  loss:  0.021787749603390694\n",
      "epoch:  201  loss:  0.019807543605566025\n",
      "epoch:  301  loss:  0.018873723223805428\n",
      "epoch:  401  loss:  0.01829976588487625\n",
      "epoch:  501  loss:  0.017902253195643425\n",
      "epoch:  601  loss:  0.017613237723708153\n",
      "epoch:  701  loss:  0.017398782074451447\n",
      "epoch:  801  loss:  0.017238112166523933\n",
      "epoch:  901  loss:  0.01711706630885601\n"
     ]
    }
   ],
   "source": [
    "for epoch in np.arange(0,1000):\n",
    "       # Forward pass: Compute predicted y by passing x to the model\n",
    "       y_pred_prob = model(X_torch.float())\n",
    "\n",
    "       # Compute and print loss\n",
    "       loss = criterion(y_pred_prob, y_torch.float())\n",
    "       if epoch%100 == 0:\n",
    "          print('epoch: ', epoch+1,' loss: ', loss.item())\n",
    "\n",
    "       # Zero gradients, perform a backward pass, and update the weights.\n",
    "       optimizer.zero_grad()\n",
    "\n",
    "       # perform a backward pass (backpropagation)\n",
    "       loss.backward()\n",
    "\n",
    "       # Update the parameters\n",
    "       optimizer.step()\n",
    "#print('epoch: ', epoch+1,' loss: ', loss.item())"
   ]
  },
  {
   "cell_type": "code",
   "execution_count": 315,
   "id": "97d8003c-d202-4809-8b41-d3ca32910300",
   "metadata": {},
   "outputs": [],
   "source": [
    "X_torch_test = torch.from_numpy(X_scl_tst)\n",
    "\n",
    "### Inferencing on test set\n",
    "lin_output = model(X_torch_test.float()) # Equivalent predict_proba / predict\n",
    "\n",
    "y_pred = lin_output.detach().numpy()\n",
    "# y_pred_prob = 1 / (1 + np.exp(-np_out))"
   ]
  },
  {
   "cell_type": "code",
   "execution_count": 316,
   "id": "ffcd28bc-a26f-47eb-ad75-2595a7338d68",
   "metadata": {},
   "outputs": [
    {
     "name": "stdout",
     "output_type": "stream",
     "text": [
      "0.582063258798887\n"
     ]
    }
   ],
   "source": [
    "# y_pred_prob = y_pred_prob.reshape(y_scl_tst.shape[0],) \n",
    "\n",
    "# y_pred = np.where(y_pred_prob >= 0.5,1,0)\n",
    "\n",
    "## Test Set Accuracy Score\n",
    "print(r2_score(y_scl_tst,y_pred))\n",
    "\n",
    "# log_loss(y_scl_tst, y_pred_prob)"
   ]
  },
  {
   "cell_type": "code",
   "execution_count": null,
   "id": "13472e85-ad31-43ce-91ec-2cfe3991c771",
   "metadata": {},
   "outputs": [],
   "source": []
  },
  {
   "cell_type": "code",
   "execution_count": null,
   "id": "3e2e43b2-1850-4590-bd77-6383a44fd57c",
   "metadata": {},
   "outputs": [],
   "source": []
  },
  {
   "cell_type": "code",
   "execution_count": null,
   "id": "144bcda3-d894-4e32-8be5-2ddc67038632",
   "metadata": {},
   "outputs": [],
   "source": []
  }
 ],
 "metadata": {
  "kernelspec": {
   "display_name": "Python 3 (ipykernel)",
   "language": "python",
   "name": "python3"
  },
  "language_info": {
   "codemirror_mode": {
    "name": "ipython",
    "version": 3
   },
   "file_extension": ".py",
   "mimetype": "text/x-python",
   "name": "python",
   "nbconvert_exporter": "python",
   "pygments_lexer": "ipython3",
   "version": "3.12.4"
  }
 },
 "nbformat": 4,
 "nbformat_minor": 5
}
