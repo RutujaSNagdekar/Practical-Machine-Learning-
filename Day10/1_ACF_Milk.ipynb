{
 "cells": [
  {
   "cell_type": "code",
   "execution_count": 55,
   "id": "99f81e84-230d-4a72-93a9-2eebc9316fd4",
   "metadata": {},
   "outputs": [],
   "source": [
    "import pandas as pd\n",
    "import numpy as np\n",
    "import matplotlib.pyplot as plt\n",
    "from sklearn.metrics import mean_squared_error as mse\n",
    "from statsmodels.tsa.stattools import adfuller\n",
    "from statsmodels.graphics.tsaplots import plot_acf"
   ]
  },
  {
   "cell_type": "code",
   "execution_count": 57,
   "id": "d7a7e5a7-0788-4812-baf3-7405f8f0d0df",
   "metadata": {},
   "outputs": [
    {
     "data": {
      "text/html": [
       "<div>\n",
       "<style scoped>\n",
       "    .dataframe tbody tr th:only-of-type {\n",
       "        vertical-align: middle;\n",
       "    }\n",
       "\n",
       "    .dataframe tbody tr th {\n",
       "        vertical-align: top;\n",
       "    }\n",
       "\n",
       "    .dataframe thead th {\n",
       "        text-align: right;\n",
       "    }\n",
       "</style>\n",
       "<table border=\"1\" class=\"dataframe\">\n",
       "  <thead>\n",
       "    <tr style=\"text-align: right;\">\n",
       "      <th></th>\n",
       "      <th>Month</th>\n",
       "      <th>Milk</th>\n",
       "    </tr>\n",
       "  </thead>\n",
       "  <tbody>\n",
       "    <tr>\n",
       "      <th>0</th>\n",
       "      <td>1962-01</td>\n",
       "      <td>589</td>\n",
       "    </tr>\n",
       "    <tr>\n",
       "      <th>1</th>\n",
       "      <td>1962-02</td>\n",
       "      <td>561</td>\n",
       "    </tr>\n",
       "    <tr>\n",
       "      <th>2</th>\n",
       "      <td>1962-03</td>\n",
       "      <td>640</td>\n",
       "    </tr>\n",
       "    <tr>\n",
       "      <th>3</th>\n",
       "      <td>1962-04</td>\n",
       "      <td>656</td>\n",
       "    </tr>\n",
       "    <tr>\n",
       "      <th>4</th>\n",
       "      <td>1962-05</td>\n",
       "      <td>727</td>\n",
       "    </tr>\n",
       "    <tr>\n",
       "      <th>...</th>\n",
       "      <td>...</td>\n",
       "      <td>...</td>\n",
       "    </tr>\n",
       "    <tr>\n",
       "      <th>163</th>\n",
       "      <td>1975-08</td>\n",
       "      <td>858</td>\n",
       "    </tr>\n",
       "    <tr>\n",
       "      <th>164</th>\n",
       "      <td>1975-09</td>\n",
       "      <td>817</td>\n",
       "    </tr>\n",
       "    <tr>\n",
       "      <th>165</th>\n",
       "      <td>1975-10</td>\n",
       "      <td>827</td>\n",
       "    </tr>\n",
       "    <tr>\n",
       "      <th>166</th>\n",
       "      <td>1975-11</td>\n",
       "      <td>797</td>\n",
       "    </tr>\n",
       "    <tr>\n",
       "      <th>167</th>\n",
       "      <td>1975-12</td>\n",
       "      <td>843</td>\n",
       "    </tr>\n",
       "  </tbody>\n",
       "</table>\n",
       "<p>168 rows × 2 columns</p>\n",
       "</div>"
      ],
      "text/plain": [
       "       Month  Milk\n",
       "0    1962-01   589\n",
       "1    1962-02   561\n",
       "2    1962-03   640\n",
       "3    1962-04   656\n",
       "4    1962-05   727\n",
       "..       ...   ...\n",
       "163  1975-08   858\n",
       "164  1975-09   817\n",
       "165  1975-10   827\n",
       "166  1975-11   797\n",
       "167  1975-12   843\n",
       "\n",
       "[168 rows x 2 columns]"
      ]
     },
     "execution_count": 57,
     "metadata": {},
     "output_type": "execute_result"
    }
   ],
   "source": [
    "df = pd.read_csv('monthly-milk-production-pounds-p.csv')\n",
    "y = df['Milk']\n",
    "df"
   ]
  },
  {
   "cell_type": "code",
   "execution_count": 63,
   "id": "039eba0c-fe7d-4823-af99-6dd58cfbf283",
   "metadata": {},
   "outputs": [
    {
     "data": {
      "image/png": "[encoded data removed]",
      "text/plain": [
       "<Figure size 640x480 with 1 Axes>"
      ]
     },
     "metadata": {},
     "output_type": "display_data"
    }
   ],
   "source": [
    "plot_acf(y , lags=40 , alpha=None)\n",
    "plt.show()"
   ]
  },
  {
   "cell_type": "code",
   "execution_count": 39,
   "id": "f740d277-dcab-4202-ab0f-786bd88555d0",
   "metadata": {},
   "outputs": [
    {
     "data": {
      "text/html": [
       "<div>\n",
       "<style scoped>\n",
       "    .dataframe tbody tr th:only-of-type {\n",
       "        vertical-align: middle;\n",
       "    }\n",
       "\n",
       "    .dataframe tbody tr th {\n",
       "        vertical-align: top;\n",
       "    }\n",
       "\n",
       "    .dataframe thead th {\n",
       "        text-align: right;\n",
       "    }\n",
       "</style>\n",
       "<table border=\"1\" class=\"dataframe\">\n",
       "  <thead>\n",
       "    <tr style=\"text-align: right;\">\n",
       "      <th></th>\n",
       "      <th>Date</th>\n",
       "      <th>Value</th>\n",
       "    </tr>\n",
       "  </thead>\n",
       "  <tbody>\n",
       "    <tr>\n",
       "      <th>0</th>\n",
       "      <td>31-12-1987</td>\n",
       "      <td>19.448655</td>\n",
       "    </tr>\n",
       "    <tr>\n",
       "      <th>1</th>\n",
       "      <td>31-12-1988</td>\n",
       "      <td>21.274000</td>\n",
       "    </tr>\n",
       "    <tr>\n",
       "      <th>2</th>\n",
       "      <td>31-12-1989</td>\n",
       "      <td>21.967677</td>\n",
       "    </tr>\n",
       "    <tr>\n",
       "      <th>3</th>\n",
       "      <td>31-12-1990</td>\n",
       "      <td>23.939126</td>\n",
       "    </tr>\n",
       "    <tr>\n",
       "      <th>4</th>\n",
       "      <td>31-12-1991</td>\n",
       "      <td>27.259261</td>\n",
       "    </tr>\n",
       "    <tr>\n",
       "      <th>5</th>\n",
       "      <td>31-12-1992</td>\n",
       "      <td>30.471893</td>\n",
       "    </tr>\n",
       "    <tr>\n",
       "      <th>6</th>\n",
       "      <td>31-12-1993</td>\n",
       "      <td>32.411083</td>\n",
       "    </tr>\n",
       "    <tr>\n",
       "      <th>7</th>\n",
       "      <td>31-12-1994</td>\n",
       "      <td>35.720636</td>\n",
       "    </tr>\n",
       "    <tr>\n",
       "      <th>8</th>\n",
       "      <td>31-12-1995</td>\n",
       "      <td>39.372939</td>\n",
       "    </tr>\n",
       "    <tr>\n",
       "      <th>9</th>\n",
       "      <td>31-12-1996</td>\n",
       "      <td>42.907602</td>\n",
       "    </tr>\n",
       "    <tr>\n",
       "      <th>10</th>\n",
       "      <td>31-12-1997</td>\n",
       "      <td>45.981085</td>\n",
       "    </tr>\n",
       "    <tr>\n",
       "      <th>11</th>\n",
       "      <td>31-12-1998</td>\n",
       "      <td>52.066580</td>\n",
       "    </tr>\n",
       "    <tr>\n",
       "      <th>12</th>\n",
       "      <td>31-12-1999</td>\n",
       "      <td>54.496160</td>\n",
       "    </tr>\n",
       "    <tr>\n",
       "      <th>13</th>\n",
       "      <td>31-12-2000</td>\n",
       "      <td>56.680771</td>\n",
       "    </tr>\n",
       "    <tr>\n",
       "      <th>14</th>\n",
       "      <td>31-12-2001</td>\n",
       "      <td>58.768732</td>\n",
       "    </tr>\n",
       "    <tr>\n",
       "      <th>15</th>\n",
       "      <td>31-12-2002</td>\n",
       "      <td>61.826650</td>\n",
       "    </tr>\n",
       "    <tr>\n",
       "      <th>16</th>\n",
       "      <td>31-12-2003</td>\n",
       "      <td>64.499797</td>\n",
       "    </tr>\n",
       "    <tr>\n",
       "      <th>17</th>\n",
       "      <td>31-12-2004</td>\n",
       "      <td>66.990684</td>\n",
       "    </tr>\n",
       "    <tr>\n",
       "      <th>18</th>\n",
       "      <td>31-12-2005</td>\n",
       "      <td>69.501823</td>\n",
       "    </tr>\n",
       "    <tr>\n",
       "      <th>19</th>\n",
       "      <td>31-12-2006</td>\n",
       "      <td>73.724180</td>\n",
       "    </tr>\n",
       "    <tr>\n",
       "      <th>20</th>\n",
       "      <td>31-12-2007</td>\n",
       "      <td>78.138923</td>\n",
       "    </tr>\n",
       "    <tr>\n",
       "      <th>21</th>\n",
       "      <td>31-12-2008</td>\n",
       "      <td>84.842041</td>\n",
       "    </tr>\n",
       "    <tr>\n",
       "      <th>22</th>\n",
       "      <td>31-12-2009</td>\n",
       "      <td>93.094370</td>\n",
       "    </tr>\n",
       "    <tr>\n",
       "      <th>23</th>\n",
       "      <td>31-12-2010</td>\n",
       "      <td>102.723775</td>\n",
       "    </tr>\n",
       "    <tr>\n",
       "      <th>24</th>\n",
       "      <td>31-12-2011</td>\n",
       "      <td>111.259619</td>\n",
       "    </tr>\n",
       "    <tr>\n",
       "      <th>25</th>\n",
       "      <td>31-12-2012</td>\n",
       "      <td>121.699068</td>\n",
       "    </tr>\n",
       "    <tr>\n",
       "      <th>26</th>\n",
       "      <td>31-12-2013</td>\n",
       "      <td>133.697853</td>\n",
       "    </tr>\n",
       "    <tr>\n",
       "      <th>27</th>\n",
       "      <td>31-12-2014</td>\n",
       "      <td>142.588092</td>\n",
       "    </tr>\n",
       "    <tr>\n",
       "      <th>28</th>\n",
       "      <td>31-12-2015</td>\n",
       "      <td>149.584852</td>\n",
       "    </tr>\n",
       "    <tr>\n",
       "      <th>29</th>\n",
       "      <td>31-12-2016</td>\n",
       "      <td>156.986634</td>\n",
       "    </tr>\n",
       "    <tr>\n",
       "      <th>30</th>\n",
       "      <td>31-12-2017</td>\n",
       "      <td>161.263669</td>\n",
       "    </tr>\n",
       "  </tbody>\n",
       "</table>\n",
       "</div>"
      ],
      "text/plain": [
       "          Date       Value\n",
       "0   31-12-1987   19.448655\n",
       "1   31-12-1988   21.274000\n",
       "2   31-12-1989   21.967677\n",
       "3   31-12-1990   23.939126\n",
       "4   31-12-1991   27.259261\n",
       "5   31-12-1992   30.471893\n",
       "6   31-12-1993   32.411083\n",
       "7   31-12-1994   35.720636\n",
       "8   31-12-1995   39.372939\n",
       "9   31-12-1996   42.907602\n",
       "10  31-12-1997   45.981085\n",
       "11  31-12-1998   52.066580\n",
       "12  31-12-1999   54.496160\n",
       "13  31-12-2000   56.680771\n",
       "14  31-12-2001   58.768732\n",
       "15  31-12-2002   61.826650\n",
       "16  31-12-2003   64.499797\n",
       "17  31-12-2004   66.990684\n",
       "18  31-12-2005   69.501823\n",
       "19  31-12-2006   73.724180\n",
       "20  31-12-2007   78.138923\n",
       "21  31-12-2008   84.842041\n",
       "22  31-12-2009   93.094370\n",
       "23  31-12-2010  102.723775\n",
       "24  31-12-2011  111.259619\n",
       "25  31-12-2012  121.699068\n",
       "26  31-12-2013  133.697853\n",
       "27  31-12-2014  142.588092\n",
       "28  31-12-2015  149.584852\n",
       "29  31-12-2016  156.986634\n",
       "30  31-12-2017  161.263669"
      ]
     },
     "execution_count": 39,
     "metadata": {},
     "output_type": "execute_result"
    }
   ],
   "source": [
    "df = pd.read_csv('WGEM-IND_CPTOTNSXN.csv')\n",
    "df"
   ]
  },
  {
   "cell_type": "code",
   "execution_count": 43,
   "id": "71f30a8c-af15-4b77-8558-738e9ba679b5",
   "metadata": {},
   "outputs": [],
   "source": [
    "y = df['Value']"
   ]
  },
  {
   "cell_type": "code",
   "execution_count": 51,
   "id": "e48b7e56-b4dd-4ecb-b5df-31948ede026e",
   "metadata": {},
   "outputs": [
    {
     "data": {
      "image/png": "[encoded data removed]",
      "text/plain": [
       "<Figure size 640x480 with 1 Axes>"
      ]
     },
     "metadata": {},
     "output_type": "display_data"
    }
   ],
   "source": [
    "plot_acf(y , lags=30 , alpha=None)\n",
    "plt.show()"
   ]
  },
  {
   "cell_type": "code",
   "execution_count": 71,
   "id": "ceb08c03-a820-479b-ac49-1fccdcfa6f20",
   "metadata": {},
   "outputs": [],
   "source": [
    " df1 = pd.read_csv('monthly-traffic-fatalities-in-on.csv')\n",
    "df1[['Month','fatalities']] = df1['Month;fatalities'].str.split(';',expand = True)"
   ]
  },
  {
   "cell_type": "code",
   "execution_count": 77,
   "id": "c7baf7e6-7956-4dca-a139-c0c2e5bd8993",
   "metadata": {},
   "outputs": [],
   "source": [
    "df1.drop('Month;fatalities' , inplace = True , axis = 1)"
   ]
  },
  {
   "cell_type": "code",
   "execution_count": 79,
   "id": "0c04a5d8-f5f0-49c7-9654-8731e3d80f74",
   "metadata": {},
   "outputs": [],
   "source": [
    "y = df1['fatalities']"
   ]
  },
  {
   "cell_type": "code",
   "execution_count": 85,
   "id": "4c38410b-e508-42ff-aeee-2969795981c0",
   "metadata": {},
   "outputs": [
    {
     "data": {
      "image/png": "[encoded data removed]",
      "text/plain": [
       "<Figure size 640x480 with 1 Axes>"
      ]
     },
     "execution_count": 85,
     "metadata": {},
     "output_type": "execute_result"
    },
    {
     "data": {
      "image/png": "[encoded data removed]",
      "text/plain": [
       "<Figure size 640x480 with 1 Axes>"
      ]
     },
     "metadata": {},
     "output_type": "display_data"
    }
   ],
   "source": [
    "plot_acf(y,lags=30,alpha=None)"
   ]
  },
  {
   "cell_type": "code",
   "execution_count": null,
   "id": "ee42c80c-9404-44a8-950b-2f9286c7289b",
   "metadata": {},
   "outputs": [],
   "source": []
  },
  {
   "cell_type": "code",
   "execution_count": null,
   "id": "346f9b69-0c8c-4181-a71b-ad7ef4d5089e",
   "metadata": {},
   "outputs": [],
   "source": []
  },
  {
   "cell_type": "code",
   "execution_count": null,
   "id": "d43bc78b-03a2-48f2-8a9e-ed5268645d39",
   "metadata": {},
   "outputs": [],
   "source": []
  },
  {
   "cell_type": "code",
   "execution_count": null,
   "id": "df175c63-1258-4493-bddd-c93eade6bd79",
   "metadata": {},
   "outputs": [],
   "source": []
  },
  {
   "cell_type": "code",
   "execution_count": null,
   "id": "01195e30-f59b-4f3f-bd44-40d523a719d9",
   "metadata": {},
   "outputs": [],
   "source": []
  },
  {
   "cell_type": "code",
   "execution_count": null,
   "id": "b2185d29-3721-48be-ba47-85dbf8827865",
   "metadata": {},
   "outputs": [],
   "source": []
  },
  {
   "cell_type": "code",
   "execution_count": null,
   "id": "ddaccc40-d7a5-4dcb-91af-b036617ebe19",
   "metadata": {},
   "outputs": [],
   "source": []
  },
  {
   "cell_type": "code",
   "execution_count": null,
   "id": "316ed1db-1c2d-4a5c-a802-28371668609d",
   "metadata": {},
   "outputs": [],
   "source": []
  }
 ],
 "metadata": {
  "kernelspec": {
   "display_name": "Python 3 (ipykernel)",
   "language": "python",
   "name": "python3"
  },
  "language_info": {
   "codemirror_mode": {
    "name": "ipython",
    "version": 3
   },
   "file_extension": ".py",
   "mimetype": "text/x-python",
   "name": "python",
   "nbconvert_exporter": "python",
   "pygments_lexer": "ipython3",
   "version": "3.12.4"
  }
 },
 "nbformat": 4,
 "nbformat_minor": 5
}
